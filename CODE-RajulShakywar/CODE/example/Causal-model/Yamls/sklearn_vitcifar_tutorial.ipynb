{
 "cells": [
  {
   "cell_type": "markdown",
   "id": "17a70cb5-b1cb-4389-a630-1a36a6cb20a2",
   "metadata": {
    "tags": []
   },
   "source": [
    "# Running sklearn and vitcifar examples\n",
    "\n",
    "Steps are as follows - \n",
    "\n",
    "1.Delete all the exisiting resources if running already\n",
    "2.Create pvc\n",
    "3.Create pod with volume mount as a recent pvc\n",
    "4.Copy randomforest.py and VitCifar.py scripts to the volume mounted by pod\n",
    "5.Create jobs "
   ]
  },
  {
   "cell_type": "code",
   "execution_count": 1,
   "id": "ab3ec255-51d2-43fd-8ec0-433be742ab09",
   "metadata": {
    "tags": []
   },
   "outputs": [
    {
     "name": "stdout",
     "output_type": "stream",
     "text": [
      "pod \"gp-engine-unoselab01-pod1\" deleted\n",
      "pod \"job-casual-model-gp-engine-unoselab01-dqc9t\" deleted\n",
      "pod \"job-casual-model-gp-engine-unoselab01-jv2f6\" deleted\n",
      "job.batch \"job-casual-model-gp-engine-unoselab01\" deleted\n"
     ]
    }
   ],
   "source": [
    "!kubectl delete pods --all && kubectl delete jobs --all"
   ]
  },
  {
   "cell_type": "code",
   "execution_count": 4,
   "id": "d6896398-5aa6-4ad5-96de-d643a6165e74",
   "metadata": {
    "tags": []
   },
   "outputs": [
    {
     "name": "stdout",
     "output_type": "stream",
     "text": [
      "persistentvolumeclaim \"pvc-gp-engine-unoselab01\" deleted\n"
     ]
    }
   ],
   "source": [
    "!kubectl delete pvc --all"
   ]
  },
  {
   "cell_type": "code",
   "execution_count": 5,
   "id": "e8cde4e5-a240-4bfe-b7f1-42cfd1608597",
   "metadata": {
    "tags": []
   },
   "outputs": [
    {
     "name": "stdout",
     "output_type": "stream",
     "text": [
      "persistentvolumeclaim/pvc-gp-engine-unoselab01 created\n"
     ]
    }
   ],
   "source": [
    "!kubectl apply -f ./pvc.yml"
   ]
  },
  {
   "cell_type": "code",
   "execution_count": 6,
   "id": "87b7c8ab-373b-4a1a-b3c0-b5125978e2d2",
   "metadata": {
    "tags": []
   },
   "outputs": [
    {
     "name": "stdout",
     "output_type": "stream",
     "text": [
      "NAME                       STATUS   VOLUME                                     CAPACITY   ACCESS MODES   STORAGECLASS          AGE\n",
      "pvc-gp-engine-unoselab01   Bound    pvc-0dbec18c-8a21-4db7-a4be-7cb081b85dd5   50Gi       RWX            rook-cephfs-central   4s\n"
     ]
    }
   ],
   "source": [
    "!kubectl get pvc"
   ]
  },
  {
   "cell_type": "code",
   "execution_count": null,
   "id": "257f9e56-b217-4006-94d2-acb3f0c7eb98",
   "metadata": {
    "tags": []
   },
   "outputs": [],
   "source": [
    "!kubectl apply -f pod_pvc.yml"
   ]
  },
  {
   "cell_type": "code",
   "execution_count": 2,
   "id": "b2f847b0-3998-4124-bb72-e9a061fc4633",
   "metadata": {
    "tags": []
   },
   "outputs": [
    {
     "name": "stdout",
     "output_type": "stream",
     "text": [
      "pod/gp-engine-unoselab01-pod1 created\n"
     ]
    }
   ],
   "source": [
    "!kubectl apply -f test_pod.yml"
   ]
  },
  {
   "cell_type": "code",
   "execution_count": 3,
   "id": "67f584fe-f041-4649-91d7-c9f73e8f47a0",
   "metadata": {
    "tags": []
   },
   "outputs": [
    {
     "name": "stdout",
     "output_type": "stream",
     "text": [
      "NAME                        READY   STATUS              RESTARTS   AGE\n",
      "gp-engine-unoselab01-pod1   0/1     ContainerCreating   0          3s\n"
     ]
    }
   ],
   "source": [
    "!kubectl get pods"
   ]
  },
  {
   "cell_type": "code",
   "execution_count": 4,
   "id": "34ade1c7-05d6-4639-b5dd-cef82b1d7672",
   "metadata": {
    "tags": []
   },
   "outputs": [],
   "source": [
    "!kubectl cp ./scripts/causal-model-a.py gp-engine-unoselab01-pod1:/data/causal-model-a.py"
   ]
  },
  {
   "cell_type": "code",
   "execution_count": null,
   "id": "69ce5358-f0df-44c7-80c6-64fb115dceb7",
   "metadata": {
    "tags": []
   },
   "outputs": [],
   "source": [
    "!kubectl cp ./scripts/test.py gp-engine-unoselab01-pod1:/data/test.py"
   ]
  },
  {
   "cell_type": "code",
   "execution_count": null,
   "id": "d235ab23-9340-4c0f-aecf-c16c36139569",
   "metadata": {
    "tags": []
   },
   "outputs": [],
   "source": [
    "!kubectl exec gp-engine-unoselab01-pod1 -- cat /data/causal-model-a.py"
   ]
  },
  {
   "cell_type": "code",
   "execution_count": null,
   "id": "77697524-11ca-44cf-80e3-98f872a7d83c",
   "metadata": {
    "tags": []
   },
   "outputs": [],
   "source": [
    "!kubectl create -f ./causal_model_job.yml"
   ]
  },
  {
   "cell_type": "code",
   "execution_count": 5,
   "id": "16b9132c-628f-4d3e-a6be-4002de1ea08d",
   "metadata": {
    "tags": []
   },
   "outputs": [
    {
     "name": "stdout",
     "output_type": "stream",
     "text": [
      "job.batch/job-casual-model-gp-engine-unoselab01 created\n"
     ]
    }
   ],
   "source": [
    "!kubectl create -f ./test_job.yml"
   ]
  },
  {
   "cell_type": "code",
   "execution_count": 7,
   "id": "0c5c2cee-6877-41ce-bce0-202bc8209449",
   "metadata": {
    "tags": []
   },
   "outputs": [
    {
     "name": "stdout",
     "output_type": "stream",
     "text": [
      "NAME                                          READY   STATUS    RESTARTS   AGE\n",
      "gp-engine-unoselab01-pod1                     1/1     Running   0          5m9s\n",
      "job-casual-model-gp-engine-unoselab01-vkhvb   1/1     Running   0          67s\n"
     ]
    }
   ],
   "source": [
    "!kubectl get pods"
   ]
  },
  {
   "cell_type": "code",
   "execution_count": 92,
   "id": "64698daf-512b-4fe0-9c0c-8cbf5ba719c8",
   "metadata": {
    "tags": []
   },
   "outputs": [
    {
     "name": "stdout",
     "output_type": "stream",
     "text": [
      "No resources found in gp-engine-unoselab01 namespace.\n"
     ]
    }
   ],
   "source": [
    "!kubectl get jobs"
   ]
  },
  {
   "cell_type": "code",
   "execution_count": null,
   "id": "cc2f999e-b216-4c76-89f5-be45d2b26e44",
   "metadata": {
    "tags": []
   },
   "outputs": [],
   "source": [
    "!job_name=$(kubectl get pods | grep job-sklearn-gp-engine-unoselab01 | awk '{print $1}') && kubectl logs --tail=1 $job_name"
   ]
  },
  {
   "cell_type": "code",
   "execution_count": 100,
   "id": "e9fd232d-a789-4628-beb9-2092e5661e66",
   "metadata": {
    "tags": []
   },
   "outputs": [
    {
     "name": "stdout",
     "output_type": "stream",
     "text": [
      "job.batch \"job-casual-model-gp-engine-unoselab01\" deleted\n"
     ]
    }
   ],
   "source": [
    "!kubectl delete jobs --all"
   ]
  },
  {
   "cell_type": "code",
   "execution_count": null,
   "id": "bfd0f920-8c84-42ad-9132-85dca652da9e",
   "metadata": {
    "tags": []
   },
   "outputs": [],
   "source": [
    "!kubectl get pods"
   ]
  },
  {
   "cell_type": "code",
   "execution_count": null,
   "id": "71322183-5847-43a2-8730-326b7e2c012a",
   "metadata": {},
   "outputs": [],
   "source": [
    "!job_name=$(kubectl get pods | grep job-vitcifar-gp-engine-unoselab01 | awk '{print $1}') && kubectl logs --tail=5 $job_name"
   ]
  },
  {
   "cell_type": "code",
   "execution_count": null,
   "id": "7d9197e1-befe-42a9-8b32-30d52b737206",
   "metadata": {},
   "outputs": [],
   "source": [
    "!free -m -h"
   ]
  }
 ],
 "metadata": {
  "kernelspec": {
   "display_name": "Python 3 (ipykernel)",
   "language": "python",
   "name": "python3"
  },
  "language_info": {
   "codemirror_mode": {
    "name": "ipython",
    "version": 3
   },
   "file_extension": ".py",
   "mimetype": "text/x-python",
   "name": "python",
   "nbconvert_exporter": "python",
   "pygments_lexer": "ipython3",
   "version": "3.10.10"
  }
 },
 "nbformat": 4,
 "nbformat_minor": 5
}
