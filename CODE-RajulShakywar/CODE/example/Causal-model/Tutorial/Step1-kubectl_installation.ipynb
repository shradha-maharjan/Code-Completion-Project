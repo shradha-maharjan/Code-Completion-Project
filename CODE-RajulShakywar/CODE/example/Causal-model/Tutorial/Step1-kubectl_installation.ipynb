{
 "cells": [
  {
   "cell_type": "markdown",
   "id": "9257db45-6b86-4b37-9d56-72dd88a0ac8e",
   "metadata": {},
   "source": [
    "# Kuberenetes installation and setup\n",
    "\n",
    "This notebook will help to install and configure kuberntes on your system"
   ]
  },
  {
   "cell_type": "markdown",
   "id": "e6fd2e91-4527-438d-8626-5edf1bcda91a",
   "metadata": {},
   "source": [
    "## Step 1: Donwload Config file \n",
    "\n",
    "Download the config file from NRP portal"
   ]
  },
  {
   "cell_type": "markdown",
   "id": "ee3fa41d-d84e-47fc-b6b9-a64cd683fda5",
   "metadata": {
    "tags": []
   },
   "source": [
    "<img src=\"./images/get_config.png\" />"
   ]
  },
  {
   "cell_type": "markdown",
   "id": "cdde3f51-6c49-4485-802d-e2aaa7084a55",
   "metadata": {},
   "source": [
    "## Step 2: Upload You Config\n",
    "\n",
    "From the Jupyter Lab interface, click on the Upload symbol, and select the config you have downloaded from the NRP portal"
   ]
  },
  {
   "cell_type": "markdown",
   "id": "690160a2-b848-4e3c-ae50-35e36e07d6ca",
   "metadata": {},
   "source": [
    "<img src=\"./images/UploadJupyter.png\" />"
   ]
  },
  {
   "cell_type": "markdown",
   "id": "4ce9ee95-b29d-4372-963e-33cd0aab538e",
   "metadata": {},
   "source": [
    "## Step 3: Install kubectl\n",
    "\n",
    "Install the kubectl in four steps \n",
    "(Ref: https://kubernetes.io/docs/tasks/tools/install-kubectl-linux)"
   ]
  },
  {
   "cell_type": "markdown",
   "id": "dac66ed1-3db6-403b-bcd6-e8948cd33867",
   "metadata": {},
   "source": [
    "Step I:  Download kubectl binary"
   ]
  },
  {
   "cell_type": "code",
   "execution_count": null,
   "id": "d3a33748-3def-4023-afc9-69d390361882",
   "metadata": {},
   "outputs": [],
   "source": [
    "!curl -LO https://storage.googleapis.com/kubernetes-release/release/$(curl -s https://storage.googleapis.com/kubernetes-release/release/stable.txt)/bin/linux/amd64/kubectl"
   ]
  },
  {
   "cell_type": "markdown",
   "id": "78bcd776-e1c6-40aa-9947-712b8d285879",
   "metadata": {},
   "source": [
    "Step II: Make kubectl executable"
   ]
  },
  {
   "cell_type": "code",
   "execution_count": null,
   "id": "9bbf9971-ee19-4b01-9016-1faf762017f8",
   "metadata": {},
   "outputs": [],
   "source": [
    "!chmod +x ./kubectl"
   ]
  },
  {
   "cell_type": "markdown",
   "id": "fd003ca5-5be1-44d9-bcac-025cbc27280f",
   "metadata": {},
   "source": [
    "Step III: Move kubectl to /usr/local/bin to make it global command"
   ]
  },
  {
   "cell_type": "code",
   "execution_count": null,
   "id": "e9388d40-350b-41dc-a8fb-ae6710a38064",
   "metadata": {},
   "outputs": [],
   "source": [
    "!sudo mv ./kubectl /usr/local/bin/kubectl"
   ]
  },
  {
   "cell_type": "markdown",
   "id": "4a533dc8-0c52-470c-b990-3702a93e65e4",
   "metadata": {},
   "source": [
    "Step IV: Test the kubectl command"
   ]
  },
  {
   "cell_type": "markdown",
   "id": "bfa24328-49dd-425e-a38c-3a66c2e55a6a",
   "metadata": {},
   "source": [
    "<img src = \"./images/kubectl_version.png\"/>"
   ]
  },
  {
   "cell_type": "code",
   "execution_count": null,
   "id": "6f64def4-80a9-49fe-8a71-4bcf548dd7cd",
   "metadata": {
    "tags": []
   },
   "outputs": [],
   "source": [
    "!kubectl version"
   ]
  },
  {
   "cell_type": "markdown",
   "id": "bda88bcf-09e3-497f-ba8f-f5edcdadb317",
   "metadata": {},
   "source": [
    "Step IV: You will get the Client version if you able to successfully install kubernetes, now get all the namespaces to test the cluster if it correctly configured"
   ]
  },
  {
   "cell_type": "markdown",
   "id": "0c259c26-5313-44d9-b473-b596da608978",
   "metadata": {},
   "source": [
    "<img src = \"./images/get_namespaces.png\" />"
   ]
  },
  {
   "cell_type": "code",
   "execution_count": null,
   "id": "ff5ded61-7bc5-414e-addc-d1aa42eb4d8f",
   "metadata": {},
   "outputs": [],
   "source": [
    "!kubectl get ns"
   ]
  },
  {
   "cell_type": "markdown",
   "id": "87b3ee8f-b077-45ef-b082-3334babadf4b",
   "metadata": {},
   "source": [
    "### To learn more about useful kubectl command \n",
    "Refer: https://www.bluematador.com/learn/kubectl-cheatsheet"
   ]
  },
  {
   "cell_type": "markdown",
   "id": "8df72418-24ca-454d-9f51-8a60d0075334",
   "metadata": {},
   "source": [
    "## Step 4: Install k9s\n",
    "\n",
    "Step I: Install K9s tool to visualize the kubernetes resources without entering kubectl commands  \n",
    "(Ref. https://webinstall.dev/k9s/)"
   ]
  },
  {
   "cell_type": "code",
   "execution_count": null,
   "id": "8b937ef7-b68c-4709-a528-0e635c05c9b5",
   "metadata": {},
   "outputs": [],
   "source": [
    "!curl -sS https://webi.sh/k9s | sh\n",
    "!export PATH=\"$HOME/.local/bin:$PATH\""
   ]
  },
  {
   "cell_type": "markdown",
   "id": "28ab97cd-b2cc-496b-9e8f-1f11d0cd7566",
   "metadata": {},
   "source": [
    "Step II: Test k9s tool "
   ]
  },
  {
   "cell_type": "markdown",
   "id": "f12be30d-802b-490d-b6fc-505dc37bcadd",
   "metadata": {},
   "source": [
    "<img src = \"./images/k9s.png\"/>"
   ]
  },
  {
   "cell_type": "code",
   "execution_count": null,
   "id": "f995ef67-6c20-4d10-9010-5f5c927f6404",
   "metadata": {},
   "outputs": [],
   "source": [
    "!k9s"
   ]
  }
 ],
 "metadata": {
  "kernelspec": {
   "display_name": "Python 3 (ipykernel)",
   "language": "python",
   "name": "python3"
  },
  "language_info": {
   "codemirror_mode": {
    "name": "ipython",
    "version": 3
   },
   "file_extension": ".py",
   "mimetype": "text/x-python",
   "name": "python",
   "nbconvert_exporter": "python",
   "pygments_lexer": "ipython3",
   "version": "3.10.10"
  }
 },
 "nbformat": 4,
 "nbformat_minor": 5
}
