{
 "cells": [
  {
   "cell_type": "markdown",
   "id": "9257db45-6b86-4b37-9d56-72dd88a0ac8e",
   "metadata": {},
   "source": [
    "# Kubernetes configuration and setup\n",
    "\n",
    "This notebook will help to install and configure kubernetes on your system, you can refer to the video tutorial below"
   ]
  },
  {
   "cell_type": "markdown",
   "id": "95a60b68-87ba-46be-81eb-01f4f569aba9",
   "metadata": {},
   "source": [
    "<video width=\"760\" height=\"500\" controls src=\"./media/kubernetes-configuration.mp4\" />"
   ]
  },
  {
   "cell_type": "markdown",
   "id": "e6fd2e91-4527-438d-8626-5edf1bcda91a",
   "metadata": {},
   "source": [
    "## Step 1: Donwload Config file \n",
    "\n",
    "##### Step 1A Download the config file from NRP portal - https://portal.nrp-nautilus.io"
   ]
  },
  {
   "cell_type": "markdown",
   "id": "ee3fa41d-d84e-47fc-b6b9-a64cd683fda5",
   "metadata": {
    "tags": []
   },
   "source": [
    "<img src=\"./media/get_config.png\" />"
   ]
  },
  {
   "cell_type": "markdown",
   "id": "c2871a66",
   "metadata": {},
   "source": [
    "##### Step 1B Open downloaded config file and verify your correct ``namespace`` name\n",
    "\n",
    " <img src=\"./media/verify_config_file.png\" />"
   ]
  },
  {
   "cell_type": "markdown",
   "id": "af0224eb",
   "metadata": {},
   "source": [
    "## Step 2: Upload Your Config\n",
    "##### Step 2A Launch Jupyter Lab instance server ``Link`` - https://jupyterhub-west.nrp-nautilus.io\n",
    "\n",
    "- There is a notebook to assist you [here](./Step0-Jupyter_lab_starting.ipynb) in launching Jupyter Lab instance.\n",
    "- Click on the ``Upload symbol``, upload your config file you have downloaded from the NRP portal in your home directory once your jupyter lab instance is launched.\n"
   ]
  },
  {
   "cell_type": "markdown",
   "id": "690160a2-b848-4e3c-ae50-35e36e07d6ca",
   "metadata": {},
   "source": [
    "<img src=\"./media/UploadJupyter.png\" />"
   ]
  },
  {
   "cell_type": "markdown",
   "id": "625e3f3a",
   "metadata": {},
   "source": [
    "##### Step 2B Getting the Path.\n",
    "- First we will check if the config has been uploaded or placed in the ``home`` directory of our Jupyter Environment. \n",
    "\n",
    "- You will see a success message ``Found config`` with your config path once your config file is found. "
   ]
  },
  {
   "cell_type": "code",
   "execution_count": null,
   "id": "997a5fa5",
   "metadata": {},
   "outputs": [],
   "source": [
    "from pathlib import Path\n",
    "\n",
    "cfg_path = Path.home().resolve() / \"config\"\n",
    "\n",
    "if cfg_path.is_file():\n",
    "    print(f\"Found config: {cfg_path}\")\n",
    "else: \n",
    "    cfg_dir = input(\"Enter directory with config: \")\n",
    "    cfg_path = Path(cfg_dir).resolve() / \"config\"\n",
    "    if cfg_path.is_file():\n",
    "        print(f\"Found config: {cfg_path}\")\n",
    "    else:\n",
    "        print(\"ERROR: Re-run this cell and give correct directory\")"
   ]
  },
  {
   "cell_type": "markdown",
   "id": "0904afe0",
   "metadata": {},
   "source": [
    "##### Step 2C Copy config file to .kube directory.\n",
    "- Ensure the output of the previous cell is **Found Config: /path/to/config** before proceeding. \n",
    "\n",
    "- Copy config file to ``.kube`` directory so that **kubectl** and other kuberentes tool can access and manage our kubernetes cluster configuration.\n",
    "\n",
    "\n",
    "- You will get ``SUCCESS: Copied config`` message after file is copied.\n"
   ]
  },
  {
   "cell_type": "code",
   "execution_count": null,
   "id": "fa4c68dc",
   "metadata": {},
   "outputs": [],
   "source": [
    "from shutil import copy\n",
    "from pathlib import Path\n",
    "\n",
    "dest_dir = Path.home().resolve() / \".kube\"\n",
    "dest_dir.mkdir(exist_ok=True)\n",
    "dest_path = dest_dir / \"config\"\n",
    "\n",
    "if dest_path.is_file():\n",
    "    print(\"SUCCESS: Config correctly configured\")\n",
    "elif cfg_path.is_file() and dest_dir.is_dir():\n",
    "    copy(cfg_path, dest_path)\n",
    "    print(\"SUCCESS: Copied config\")\n",
    "else:\n",
    "    print(\"ERROR: Ensure you have correct config path\")"
   ]
  },
  {
   "cell_type": "markdown",
   "id": "4ce9ee95-b29d-4372-963e-33cd0aab538e",
   "metadata": {},
   "source": [
    "## Step 3: Kubectl installation\n",
    "\n",
    "Install the kubectl in four steps \n",
    "(Ref: https://kubernetes.io/docs/tasks/tools/install-kubectl-linux)"
   ]
  },
  {
   "cell_type": "markdown",
   "id": "5124dabb-1007-480a-86d4-887050d85d7a",
   "metadata": {},
   "source": [
    "<video width=\"760\" height=\"500\" controls src=\"./media/kubectl_setup.mp4\" />"
   ]
  },
  {
   "cell_type": "markdown",
   "id": "dac66ed1-3db6-403b-bcd6-e8948cd33867",
   "metadata": {},
   "source": [
    "Step I:  Download kubectl binary"
   ]
  },
  {
   "cell_type": "code",
   "execution_count": null,
   "id": "d3a33748-3def-4023-afc9-69d390361882",
   "metadata": {},
   "outputs": [],
   "source": [
    "! curl -LO https://storage.googleapis.com/kubernetes-release/release/$(curl -s https://storage.googleapis.com/kubernetes-release/release/stable.txt)/bin/linux/amd64/kubectl"
   ]
  },
  {
   "cell_type": "markdown",
   "id": "78bcd776-e1c6-40aa-9947-712b8d285879",
   "metadata": {},
   "source": [
    "Step II: Make kubectl executable"
   ]
  },
  {
   "cell_type": "code",
   "execution_count": null,
   "id": "9bbf9971-ee19-4b01-9016-1faf762017f8",
   "metadata": {},
   "outputs": [],
   "source": [
    "!chmod +x ./kubectl"
   ]
  },
  {
   "cell_type": "markdown",
   "id": "fd003ca5-5be1-44d9-bcac-025cbc27280f",
   "metadata": {},
   "source": [
    "Step III: Move kubectl to /usr/local/bin to make it global command"
   ]
  },
  {
   "cell_type": "code",
   "execution_count": null,
   "id": "e9388d40-350b-41dc-a8fb-ae6710a38064",
   "metadata": {},
   "outputs": [],
   "source": [
    "!sudo mv ./kubectl /usr/local/bin/kubectl"
   ]
  },
  {
   "cell_type": "markdown",
   "id": "4a533dc8-0c52-470c-b990-3702a93e65e4",
   "metadata": {},
   "source": [
    "Step IV: Test the kubectl command"
   ]
  },
  {
   "cell_type": "markdown",
   "id": "bfa24328-49dd-425e-a38c-3a66c2e55a6a",
   "metadata": {},
   "source": [
    "<img src = \"./media/kubectl_version.png\"/>"
   ]
  },
  {
   "cell_type": "code",
   "execution_count": null,
   "id": "6f64def4-80a9-49fe-8a71-4bcf548dd7cd",
   "metadata": {
    "tags": []
   },
   "outputs": [],
   "source": [
    "!kubectl version"
   ]
  },
  {
   "cell_type": "markdown",
   "id": "bda88bcf-09e3-497f-ba8f-f5edcdadb317",
   "metadata": {},
   "source": [
    "Step IV: You will get the Client version if you able to successfully install kubernetes, now get all the namespaces to test the cluster if it correctly configured"
   ]
  },
  {
   "cell_type": "markdown",
   "id": "0c259c26-5313-44d9-b473-b596da608978",
   "metadata": {},
   "source": [
    "<img src = \"./media/get_namespaces.png\" />"
   ]
  },
  {
   "cell_type": "code",
   "execution_count": null,
   "id": "ff5ded61-7bc5-414e-addc-d1aa42eb4d8f",
   "metadata": {},
   "outputs": [],
   "source": [
    "!kubectl get ns"
   ]
  },
  {
   "cell_type": "markdown",
   "id": "8df72418-24ca-454d-9f51-8a60d0075334",
   "metadata": {
    "tags": []
   },
   "source": [
    "## Step 4: k9s Installation\n",
    "\n",
    "Install K9s tool to visualize the kubernetes resources without entering kubectl commands  \n",
    "(Ref. https://webinstall.dev/k9s/)"
   ]
  },
  {
   "cell_type": "markdown",
   "id": "5244dccc-bdd8-44e5-9a4f-e7ae2c476112",
   "metadata": {},
   "source": [
    "<video width=\"760\" height=\"500\" controls src=\"./media/k9s_installation.mp4\" />"
   ]
  },
  {
   "cell_type": "markdown",
   "id": "745b31e0-5017-4ac5-9fdd-e181cc41c10e",
   "metadata": {},
   "source": [
    "Step I: Download script and then pipe it to shell"
   ]
  },
  {
   "cell_type": "markdown",
   "id": "c976bff0-14e4-46f3-a6fe-af37c3cfc194",
   "metadata": {},
   "source": [
    "Step II: Update PATH environment variable"
   ]
  },
  {
   "cell_type": "code",
   "execution_count": null,
   "id": "8036597a",
   "metadata": {},
   "outputs": [],
   "source": [
    "!curl -sS https://webi.sh/k9s | sh"
   ]
  },
  {
   "cell_type": "code",
   "execution_count": 21,
   "id": "20da5a1f-3981-4b8e-912f-d7cdfe6d18c9",
   "metadata": {},
   "outputs": [],
   "source": [
    "!export PATH=\"$HOME/.local/bin:$PATH\""
   ]
  },
  {
   "cell_type": "markdown",
   "id": "3404592f-bd18-4fe3-9552-c423c0222497",
   "metadata": {},
   "source": [
    "Step III: Update .bashrc file "
   ]
  },
  {
   "cell_type": "code",
   "execution_count": 22,
   "id": "d01d533f-f194-4668-a7df-254ea652f6b8",
   "metadata": {},
   "outputs": [],
   "source": [
    "!source ~/.bashrc"
   ]
  },
  {
   "cell_type": "markdown",
   "id": "28ab97cd-b2cc-496b-9e8f-1f11d0cd7566",
   "metadata": {},
   "source": [
    "Step IV: Launch and test k9s tool "
   ]
  },
  {
   "cell_type": "markdown",
   "id": "f12be30d-802b-490d-b6fc-505dc37bcadd",
   "metadata": {},
   "source": [
    "<img src = \"./media/k9s.png\"/>"
   ]
  },
  {
   "cell_type": "code",
   "execution_count": null,
   "id": "00889001-be75-44c7-8d74-23d1d46734d1",
   "metadata": {},
   "outputs": [],
   "source": [
    "!k9s"
   ]
  },
  {
   "cell_type": "markdown",
   "id": "e3720d80",
   "metadata": {},
   "source": [
    "## Step 5: Know some useful k9s Commands\n",
    " \n",
    "- ``?`` : Wildcard Search for namespace \n",
    "- ``:`` : Search for resources\n",
    "- ``:ns`` : List all namespaces\n",
    "- ``:pods`` : List all pods\n",
    "- ``:jobs`` : List all jobs\n",
    "- ``:svc`` : List all services\n",
    "- ``l`` : Print container logs\n",
    "- ``s`` : Go to container shell\n",
    "- ``ctrl-d`` : Delete any resource\n",
    "- ``:esc`` Go back\n"
   ]
  },
  {
   "cell_type": "markdown",
   "id": "99b01102",
   "metadata": {},
   "source": [
    "### To learn more about useful kubectl command \n",
    "- K9s Cheatsheet: https://www.bluematador.com/learn/kubectl-cheatsheet\n",
    "- K9s Video tutorial: https://youtu.be/ZwOOJqcKQ8g?si=EMe0vQ2oEBs1Zats\n",
    " \n",
    "<iframe width=\"760\" height=\"500\" src=\"https://www.youtube.com/embed/ZwOOJqcKQ8g?si=-LdEo_bO75pmVugp\" title=\"YouTube video player\" frameborder=\"0\" allow=\"accelerometer; autoplay; clipboard-write; encrypted-media; gyroscope; picture-in-picture; web-share\" referrerpolicy=\"strict-origin-when-cross-origin\" allowfullscreen></iframe>"
   ]
  }
 ],
 "metadata": {
  "kernelspec": {
   "display_name": "Python 3 (ipykernel)",
   "language": "python",
   "name": "python3"
  },
  "language_info": {
   "codemirror_mode": {
    "name": "ipython",
    "version": 3
   },
   "file_extension": ".py",
   "mimetype": "text/x-python",
   "name": "python",
   "nbconvert_exporter": "python",
   "pygments_lexer": "ipython3",
   "version": "3.10.10"
  }
 },
 "nbformat": 4,
 "nbformat_minor": 5
}
