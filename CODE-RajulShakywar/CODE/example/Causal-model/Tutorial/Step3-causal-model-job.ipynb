{
 "cells": [
  {
   "cell_type": "markdown",
   "id": "01779cd2-92cd-4d27-b958-7de843aeb4f6",
   "metadata": {},
   "source": [
    "# Running causal-model python script as a kubernetes job\n",
    "\n",
    "This notebook will walk through step by step to run causal-model python script as a kubernetes job"
   ]
  },
  {
   "cell_type": "markdown",
   "id": "3c56b484-865c-4754-8568-72504ed08066",
   "metadata": {},
   "source": [
    "<video width=\"760\" height=\"500\" controls src=\"./media/pod_creation_and_copy_scripts.mp4\" />"
   ]
  },
  {
   "cell_type": "markdown",
   "id": "a97933e2-e24d-4e74-b195-271444d29481",
   "metadata": {},
   "source": [
    "# Step 0: Prerequisites\n",
    "\n",
    "\n",
    "``Add a text to display namespace or pod in k9s.``\n",
    "\n",
    "\n",
    "1. You must have been added to a Nautilus namespace \n",
    "2. You must have kubectl installed. There is a notebook to assist you [here](./Step1-kubectl_installation.ipynb).\n",
    "3. You must have a PVC on the Nautilus cluster in your assigned namespace. There is a notebook to assist you [here](./Step2-persistant_volume_creation.ipynb).\n",
    "\n"
   ]
  },
  {
   "cell_type": "markdown",
   "id": "b78e4ec1-dfa5-4c54-bb82-20da4a1c44c5",
   "metadata": {},
   "source": [
    "# Step 1: Create causal-model.py script to run as a kubernetes job\n",
    "\n",
    "### Step 1A: Create causal-model-a.py file\n",
    "You can find the python script here [causal-model-a.py](./scripts/causal-model-a.py)\n",
    "\n",
    "### Step 1B: Create script to install all required python libraries before runing causal-model model\n",
    "You can find the script here [run_install.sh](./scripts/run_install.sh)"
   ]
  },
  {
   "cell_type": "markdown",
   "id": "5528e951-b503-420e-ab5c-d8aee6d8c7ee",
   "metadata": {},
   "source": [
    "# Step 2: Copying Our Script to the Cluster\n",
    "\n",
    "### Step 2A: Spawn Pod with PVC\n",
    "You now need to spawn a pod on the cluster with your peristent volume attached\n",
    "\n",
    "``The link below is broken.``\n",
    "\n",
    "``The video showed the old yaml file which had the security/permission problem.``\n",
    "\n",
    "\n",
    "For a refresher, [here is a sample YAML file](.yaml//pod_pvc.yml). Be sure to change the `name` of the pod and the `persistentVolume-name`\n",
    "\n",
    "```yaml\n",
    "apiVersion: v1\n",
    "kind: Pod\n",
    "metadata:\n",
    "  name: {{pod name}}\n",
    "spec:\n",
    "  containers:\n",
    "  - name: pod-name-sso\n",
    "    image: ubuntu:20.04\n",
    "    command: [\"sh\", \"-c\", \"echo 'Im a new pod' && sleep infinity\"]\n",
    "    resources:\n",
    "      limits:\n",
    "        memory: 12Gi\n",
    "        cpu: 2\n",
    "      requests:\n",
    "        memory: 10Gi\n",
    "        cpu: 2\n",
    "    volumeMounts:\n",
    "    - mountPath: /data\n",
    "      name: {{persistentVolume-name}}\n",
    "  volumes:\n",
    "    - name: {{persistentVolume-name}}\n",
    "      persistentVolumeClaim:\n",
    "        claimName: {{persistentVolume-name}}\n",
    "```\n",
    "\n",
    "Once you have updated those values, you can run the following cell:"
   ]
  },
  {
   "cell_type": "code",
   "execution_count": null,
   "id": "b1c57558-9cd5-4daf-83c4-ff0b68c5ae14",
   "metadata": {},
   "outputs": [],
   "source": [
    "!kubectl apply -f ./yaml/pod_pvc.yml\n",
    "\n",
    "\"\"\"\n",
    "The following error was caused by the above command.\n",
    "\n",
    "(base) jovyan@jupyter-myoungkyu-40unomaha-2eedu:~/0-kubectrl$ kubectl apply -f pod_pvc.yml \n",
    "Error from server: error when creating \"pod_pvc.yml\": admission webhook \"pod.nrp-nautilus.io\" denied the request: Please accept the AUP at the user portal.\n",
    "\"\"\"\n",
    "\n",
    "\"\"\"\n",
    "https://portal.nrp-nautilus.io/ use the link , scroll down to Acceptable Use Policy and accept the policy\n",
    "\"\"\""
   ]
  },
  {
   "cell_type": "markdown",
   "id": "4848d1b3-ed07-4d3b-9a4a-cb0ea5064a49",
   "metadata": {},
   "source": [
    "### Step 2B: Copy the File to the PVC\n",
    "Run the following cell until your pod is `Running`:"
   ]
  },
  {
   "cell_type": "code",
   "execution_count": null,
   "id": "ac5b2520-266b-45c5-b0b2-47787985d26c",
   "metadata": {
    "tags": []
   },
   "outputs": [],
   "source": [
    "! kubectl get pods"
   ]
  },
  {
   "cell_type": "markdown",
   "id": "a0b850bd-8202-4212-af40-62c0a6cc9fea",
   "metadata": {},
   "source": [
    "Once your pod is running, we can copy our library installation script and causal-model python scripts to the PVC attached to the pod. Change `PODNAME` to your podname:\n",
    " "
   ]
  },
  {
   "cell_type": "code",
   "execution_count": null,
   "id": "f05c4e0f-1262-4154-afce-8cce1cf8d9a1",
   "metadata": {
    "tags": []
   },
   "outputs": [],
   "source": [
    "! kubectl cp ./scripts/causal-model-a.py gp-engine-unoselab01-pod1:/data/causal-model-a.py"
   ]
  },
  {
   "cell_type": "code",
   "execution_count": null,
   "id": "05927ee5-0287-4766-9355-0b42a3762068",
   "metadata": {},
   "outputs": [],
   "source": [
    "! kubectl cp ./scripts/run_install.sh gp-engine-unoselab01-pod1:/data/run_install.sh"
   ]
  },
  {
   "cell_type": "markdown",
   "id": "c7c8a1b0-97ec-46fc-b892-3dc182906dbf",
   "metadata": {},
   "source": [
    "#### Note: \n",
    "Order of copying sripts does not matter here because these scripts will run as per the command order given in job specification yaml\n",
    "\n",
    "See Job specification yaml in Step 4\n",
    "```yaml\n",
    "command: [\"sh\", \"-c\", \"bash run_install.sh && python3 /data/causal-model-a.py\"]\n",
    "\n",
    "```\n",
    "Here running library installation script first before running causal-model job"
   ]
  },
  {
   "cell_type": "markdown",
   "id": "5190297e-c234-4155-8658-2589cb0de2ac",
   "metadata": {},
   "source": [
    "We can check that our copy was successful with the `exec` subcommand in `kubectl`. Again, replace PODNAME with your pod's name:"
   ]
  },
  {
   "cell_type": "code",
   "execution_count": null,
   "id": "85092a8e-fb05-4cd5-b89c-e93b45d8bd45",
   "metadata": {},
   "outputs": [],
   "source": [
    "! kubectl exec gp-engine-unoselab01-pod1 -- cat /data/causal-model-a.py"
   ]
  },
  {
   "cell_type": "code",
   "execution_count": null,
   "id": "0a3fcf83-f4d8-4c97-9cc8-8b729da5fe47",
   "metadata": {},
   "outputs": [],
   "source": [
    "! kubectl exec gp-engine-unoselab01-pod1 -- cat /data/run_install.sh"
   ]
  },
  {
   "cell_type": "markdown",
   "id": "e19f2f27-b3d6-4b80-a5a8-9051a8900086",
   "metadata": {},
   "source": [
    "# Step 3: Building the Job Specification YAML\n",
    "\n",
    "We now have everything we need to run our causal-model job. The final to-do item is to create a YAML Job Specification file. There is a template file for this in the repository [here](./causal_model_job.yml)\n",
    "\n",
    "\n",
    "```yaml\n",
    "apiVersion: batch/v1\n",
    "kind: Job\n",
    "metadata:\n",
    "  name: {{job name}}\n",
    "spec:\n",
    "  ttlSecondsAfterFinished: 86400 # a day\n",
    "  template:\n",
    "    spec:\n",
    "      automountServiceAccountToken: false\n",
    "      affinity:\n",
    "        nodeAffinity:\n",
    "          requiredDuringSchedulingIgnoredDuringExecution:\n",
    "            nodeSelectorTerms:\n",
    "              - matchExpressions:\n",
    "                  - key: topology.kubernetes.io/region\n",
    "                    operator: In\n",
    "                    values:\n",
    "                      - us-central \n",
    "      containers:\n",
    "        - name: job-casual-model-train-container\n",
    "          image: gitlab-registry.nrp-nautilus.io/gp-engine/jupyter-stacks/bigdata-2023:latest\n",
    "          workingDir: /data\n",
    "          command: [\"sh\", \"-c\", \"bash run_install.sh && python3 /data/causal-model-a.py\"]\n",
    "          volumeMounts:\n",
    "            - name: pvc-gp-engine-unoselab01\n",
    "              mountPath: /data\n",
    "          resources:\n",
    "            limits:\n",
    "              memory: 21Gi\n",
    "              cpu: \"8\"\n",
    "              nvidia.com/gpu: 1\n",
    "            requests:\n",
    "              memory: 20Gi\n",
    "              cpu: \"8\"    \n",
    "              nvidia.com/gpu: 1\n",
    "          securityContext:\n",
    "            allowPrivilegeEscalation: false\n",
    "            runAsUser: {{runAsUserID}}\n",
    "      volumes:\n",
    "        - name: {{ pvc_name }}\n",
    "          persistentVolumeClaim:\n",
    "            claimName: {{ pvc_name }}\n",
    "      restartPolicy: Never\n",
    "  backoffLimit: 1\n",
    "\n",
    "```\n",
    "\n",
    "Fill the job name and pvc name in the template"
   ]
  },
  {
   "cell_type": "markdown",
   "id": "b28c7e93-e15a-44d8-9e75-01900449c084",
   "metadata": {},
   "source": [
    "#### Note: Add securityContext in Job specification yml and add runAsUser Id copied from the pod container shell (Mostly it is 0)\n",
    "This will provide container root permissions to perform File I/O opertation required in the job. \n",
    "```yaml\n",
    "  securityContext:\n",
    "    allowPrivilegeEscalation: false\n",
    "    runAsUser: 0\n",
    "```"
   ]
  },
  {
   "cell_type": "markdown",
   "id": "b6db10ee-a2c5-476a-8b69-e552dc96fad5",
   "metadata": {},
   "source": [
    "<video width=\"760\" height=\"500\" controls src=\"./media/running_causal_model_job.mp4\" />"
   ]
  },
  {
   "cell_type": "markdown",
   "id": "61646b30-8636-4eea-bfc4-c8bf398fd7fa",
   "metadata": {},
   "source": [
    "# Step 4: Start the Job\n",
    "\n",
    "Run the cell below to start the job:"
   ]
  },
  {
   "cell_type": "code",
   "execution_count": 16,
   "id": "eb4c8d4d-8f9d-47c1-84d7-b2f240117a1a",
   "metadata": {},
   "outputs": [
    {
     "name": "stdout",
     "output_type": "stream",
     "text": [
      "job.batch/job-casual-model-gp-engine-unoselab01 created\n"
     ]
    }
   ],
   "source": [
    "! kubectl create -f ./yaml/causal_model_job.yml"
   ]
  },
  {
   "cell_type": "markdown",
   "id": "ca7421b0-1f60-4df7-a441-7a6a6c7700e4",
   "metadata": {},
   "source": [
    "Run the cell below until your job moves to the `Complete` status. It will go through the stages of: `Pending`, `ContainerCreating`, and `Running`:"
   ]
  },
  {
   "cell_type": "markdown",
   "id": "7b260cd3-30e0-429a-80ff-8d94f5d2bd61",
   "metadata": {},
   "source": [
    "# Step 5: Review the Output of the Job\n",
    "\n",
    "As you can see in the output from Step 5, your job created a pod with the name of `job-ABCDE`. Let's check the output of that pod to see our accuracy. Change `PODNAME` below to the correct pod name:"
   ]
  },
  {
   "cell_type": "code",
   "execution_count": 19,
   "id": "43de6aba-421e-4d28-ace9-f72e8d1ccb26",
   "metadata": {
    "tags": []
   },
   "outputs": [
    {
     "name": "stdout",
     "output_type": "stream",
     "text": [
      "NAME                                          READY   STATUS              RESTARTS   AGE\n",
      "gp-engine-unoselab01-pod1                     1/1     Running             0          47m\n",
      "job-casual-model-gp-engine-unoselab01-85qrx   0/1     ContainerCreating   0          36s\n"
     ]
    }
   ],
   "source": [
    "! kubectl get pods"
   ]
  },
  {
   "cell_type": "code",
   "execution_count": null,
   "id": "945b18e5-ad6c-4c3f-9063-460ca0a7b728",
   "metadata": {},
   "outputs": [],
   "source": [
    "!kubectl get jobs"
   ]
  },
  {
   "cell_type": "code",
   "execution_count": null,
   "id": "b9cbe781-1903-4ae9-85c5-19c411cecee3",
   "metadata": {},
   "outputs": [],
   "source": [
    "! kubectl logs -f job-casual-model-gp-engine-unoselab01-85qrx"
   ]
  },
  {
   "cell_type": "markdown",
   "id": "cd3bc21b-5598-4d45-8680-232a1e94fd71",
   "metadata": {},
   "source": [
    "#### You can also save the job logs into a seprate file to analyze it"
   ]
  },
  {
   "cell_type": "markdown",
   "id": "ff13c354-4d93-4ec5-95cb-1ed064e94fe6",
   "metadata": {},
   "source": [
    "<img src=\"./media/causal-model-job-logs.png\" />"
   ]
  },
  {
   "cell_type": "code",
   "execution_count": null,
   "id": "69d619fa-092b-4ee1-98c0-749099c02d0d",
   "metadata": {},
   "outputs": [],
   "source": [
    "!kubectl logs -f <job-pod-name> > causal-model-job.txt"
   ]
  },
  {
   "cell_type": "markdown",
   "id": "122035ca-2ec0-439a-89bc-446020077a60",
   "metadata": {},
   "source": [
    "# Step 6: Delete the Job and the Pod\n",
    "\n",
    "The final step is to delete the job we ran the pod we spawned. Please change `JOBNAME` and `PODNAME` below to the appropriate name:"
   ]
  },
  {
   "cell_type": "code",
   "execution_count": null,
   "id": "6d925e78-03f7-4bf6-a077-c5f4d594679f",
   "metadata": {},
   "outputs": [],
   "source": [
    "! kubectl delete job <job-name>"
   ]
  },
  {
   "cell_type": "code",
   "execution_count": null,
   "id": "485af11b-4c55-4615-92c0-a41dbfae118e",
   "metadata": {},
   "outputs": [],
   "source": [
    "! kubectl delete pod <job-pod-name>"
   ]
  }
 ],
 "metadata": {
  "kernelspec": {
   "display_name": "Python 3 (ipykernel)",
   "language": "python",
   "name": "python3"
  },
  "language_info": {
   "codemirror_mode": {
    "name": "ipython",
    "version": 3
   },
   "file_extension": ".py",
   "mimetype": "text/x-python",
   "name": "python",
   "nbconvert_exporter": "python",
   "pygments_lexer": "ipython3",
   "version": "3.10.10"
  }
 },
 "nbformat": 4,
 "nbformat_minor": 5
}
