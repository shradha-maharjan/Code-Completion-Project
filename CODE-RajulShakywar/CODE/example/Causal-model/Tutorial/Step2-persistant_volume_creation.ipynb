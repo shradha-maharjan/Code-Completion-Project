{
 "cells": [
  {
   "cell_type": "markdown",
   "id": "e17d86e8-3aaa-47a1-9eac-210d78a95f56",
   "metadata": {},
   "source": [
    "# Example 1: Runnign Causal-model pyhton script as a kubernetes job\n",
    "\n",
    "This notebook will guide you step wise step to run causal-model python script as a kubernetes job "
   ]
  },
  {
   "cell_type": "markdown",
   "id": "d4fe6038-86c8-4f68-89b2-3a8491586cdc",
   "metadata": {},
   "source": [
    "## Step 1: Create persistant volume  \n",
    "\n",
    "We will be using a template of a PVC creation YAML to make this process easy:\n",
    "\n",
    "```yaml\n",
    "apiVersion: v1\n",
    "kind: PersistentVolumeClaim\n",
    "metadata:\n",
    "  name: {{ name }}\n",
    "spec:\n",
    "  storageClassName: rook-cephfs-central\n",
    "  accessModes:\n",
    "  - ReadWriteMany\n",
    "  resources:\n",
    "    requests:\n",
    "      storage: 50Gi\n",
    "```\n",
    "We are creating a persistent volume in the rook CephFS central storage pool with 50 GB of storage."
   ]
  },
  {
   "cell_type": "markdown",
   "id": "e274698e-2efc-446e-899f-c160ab14a57a",
   "metadata": {},
   "source": [
    "## Step 2: Create the PVC\n",
    "\n",
    "Now, we need to invoke KubeCTL with our saved YAML file to create the PVC"
   ]
  },
  {
   "cell_type": "code",
   "execution_count": null,
   "id": "68134af3-f3e5-44c9-8867-2ede47217ccb",
   "metadata": {},
   "outputs": [],
   "source": [
    "!kubectl apply -f ./yaml/pvc.yml"
   ]
  },
  {
   "cell_type": "markdown",
   "id": "ae6086b2-2191-4e56-850a-af7bfd1e0fc7",
   "metadata": {},
   "source": [
    "## Step 4: Verify PVC Creation\n",
    "\n",
    "The output of Step 3 should have been something such as:\n",
    "```\n",
    "persistentvolumeclaim/YOURNAME created\n",
    "```\n",
    "\n",
    "Let's view all of the PVC in our namespace and ensure we find ours:"
   ]
  },
  {
   "cell_type": "code",
   "execution_count": 1,
   "id": "0a225e0c-1a84-4057-b14e-0434c7b21daa",
   "metadata": {
    "tags": []
   },
   "outputs": [
    {
     "name": "stdout",
     "output_type": "stream",
     "text": [
      "NAME                       STATUS   VOLUME                                     CAPACITY   ACCESS MODES   STORAGECLASS          AGE\n",
      "pvc-gp-engine-unoselab01   Bound    pvc-4bdf8ee3-24ea-4581-ad99-ba819920916c   50Gi       RWX            rook-cephfs-central   7d7h\n"
     ]
    }
   ],
   "source": [
    "! kubectl get pvc"
   ]
  }
 ],
 "metadata": {
  "kernelspec": {
   "display_name": "Python 3 (ipykernel)",
   "language": "python",
   "name": "python3"
  },
  "language_info": {
   "codemirror_mode": {
    "name": "ipython",
    "version": 3
   },
   "file_extension": ".py",
   "mimetype": "text/x-python",
   "name": "python",
   "nbconvert_exporter": "python",
   "pygments_lexer": "ipython3",
   "version": "3.10.10"
  }
 },
 "nbformat": 4,
 "nbformat_minor": 5
}
