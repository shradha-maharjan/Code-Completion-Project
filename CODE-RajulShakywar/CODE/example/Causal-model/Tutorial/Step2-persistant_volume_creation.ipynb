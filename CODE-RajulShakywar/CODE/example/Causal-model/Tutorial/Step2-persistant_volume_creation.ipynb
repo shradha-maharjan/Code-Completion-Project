{
 "cells": [
  {
   "cell_type": "markdown",
   "id": "e17d86e8-3aaa-47a1-9eac-210d78a95f56",
   "metadata": {},
   "source": [
    "# Example 1: Persistent volume creation\n",
    "\n",
    "This notebook will guide you step wise step to create persitent volume"
   ]
  },
  {
   "cell_type": "markdown",
   "id": "79b8c310-ffd9-4fd1-b67a-2ae85b41ddfe",
   "metadata": {},
   "source": [
    "<video width=\"760\" height=\"500\" controls src=\"./media/pvc_creation.mp4\" />"
   ]
  },
  {
   "cell_type": "markdown",
   "id": "d4fe6038-86c8-4f68-89b2-3a8491586cdc",
   "metadata": {},
   "source": [
    "## Step 1: Create persistant volume  \n",
    "\n",
    "We will be using a template of a PVC creation YAML to make this process easy:\n",
    "\n",
    "```yaml\n",
    "apiVersion: v1\n",
    "kind: PersistentVolumeClaim\n",
    "metadata:\n",
    "  name: {{ pvc_name }}\n",
    "spec:\n",
    "  storageClassName: rook-cephfs-central\n",
    "  accessModes:\n",
    "  - ReadWriteMany\n",
    "  resources:\n",
    "    requests:\n",
    "      storage: 50Gi\n",
    "```\n",
    "We are creating a persistent volume in the rook CephFS central storage pool with 50 GB of storage.\n",
    "```"
   ]
  },
  {
   "cell_type": "markdown",
   "id": "3084883f",
   "metadata": {},
   "source": [
    "##### Step 1A : Let's use `jinja2` to fill in the missing values in our pvc template:"
   ]
  },
  {
   "cell_type": "code",
   "execution_count": null,
   "id": "30d10727",
   "metadata": {},
   "outputs": [],
   "source": [
    "from jinja2 import Template\n",
    "\n",
    "# read in the template\n",
    "with open('./yaml_templates/pvc.yml') as file_:\n",
    "    template = Template(file_.read())"
   ]
  },
  {
   "cell_type": "markdown",
   "id": "7c0c9307",
   "metadata": {},
   "source": [
    "Replace the arguments to the `render` function with the appropriate values:"
   ]
  },
  {
   "cell_type": "code",
   "execution_count": null,
   "id": "952bf21e",
   "metadata": {},
   "outputs": [],
   "source": [
    "# render the pvc spec\n",
    "pvc_spec = template.render(\n",
    "    pvc_name=\"PVC_NAME\",\n",
    ")\n",
    "# print the pvc spec\n",
    "print(pvc_spec)"
   ]
  },
  {
   "cell_type": "markdown",
   "id": "b24a00fc",
   "metadata": {},
   "source": [
    "Now, let's save it to disk:"
   ]
  },
  {
   "cell_type": "code",
   "execution_count": null,
   "id": "8fab2322",
   "metadata": {},
   "outputs": [],
   "source": [
    "\n",
    "with open(\"./yaml/pvc.yml\", \"w\") as file:\n",
    "    file.write(pvc_spec)"
   ]
  },
  {
   "cell_type": "markdown",
   "id": "e274698e-2efc-446e-899f-c160ab14a57a",
   "metadata": {},
   "source": [
    "## Step 2: Create the PVC\n",
    "\n",
    "Now, we need to invoke KubeCTL with our saved YAML file to create the PVC"
   ]
  },
  {
   "cell_type": "code",
   "execution_count": null,
   "id": "fb6482df",
   "metadata": {},
   "outputs": [],
   "source": [
    "!kubectl apply -f ./yaml/pvc.yml"
   ]
  },
  {
   "cell_type": "markdown",
   "id": "ae6086b2-2191-4e56-850a-af7bfd1e0fc7",
   "metadata": {},
   "source": [
    "## Step 4: Verify PVC Creation\n",
    "\n",
    "The output of the above step should have been something such as:\n",
    "```\n",
    "persistentvolumeclaim/YOURNAME created\n",
    "```\n",
    "\n",
    "Let's view all of the PVC in our namespace and ensure we find ours:"
   ]
  },
  {
   "cell_type": "code",
   "execution_count": null,
   "id": "553144c5",
   "metadata": {},
   "outputs": [],
   "source": [
    "! kubectl get pvc"
   ]
  }
 ],
 "metadata": {
  "kernelspec": {
   "display_name": "Python 3 (ipykernel)",
   "language": "python",
   "name": "python3"
  },
  "language_info": {
   "codemirror_mode": {
    "name": "ipython",
    "version": 3
   },
   "file_extension": ".py",
   "mimetype": "text/x-python",
   "name": "python",
   "nbconvert_exporter": "python",
   "pygments_lexer": "ipython3",
   "version": "3.10.10"
  }
 },
 "nbformat": 4,
 "nbformat_minor": 5
}
