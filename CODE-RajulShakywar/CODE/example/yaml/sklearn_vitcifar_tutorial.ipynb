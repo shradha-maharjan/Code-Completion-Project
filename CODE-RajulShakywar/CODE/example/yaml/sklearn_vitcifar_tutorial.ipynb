{
 "cells": [
  {
   "cell_type": "markdown",
   "id": "17a70cb5-b1cb-4389-a630-1a36a6cb20a2",
   "metadata": {
    "tags": []
   },
   "source": [
    "# Running sklearn and vitcifar examples\n",
    "\n",
    "Steps are as follows - \n",
    "\n",
    "1.Delete all the exisiting resources if running already\n",
    "2.Create pvc\n",
    "3.Create pod with volume mount as a recent pvc\n",
    "4.Copy randomforest.py and VitCifar.py scripts to the volume mounted by pod\n",
    "5.Create job "
   ]
  },
  {
   "cell_type": "code",
   "execution_count": null,
   "id": "ab3ec255-51d2-43fd-8ec0-433be742ab09",
   "metadata": {
    "tags": []
   },
   "outputs": [],
   "source": [
    "!kubectl delete pods --all && kubectl delete jobs --all"
   ]
  },
  {
   "cell_type": "code",
   "execution_count": null,
   "id": "d6896398-5aa6-4ad5-96de-d643a6165e74",
   "metadata": {
    "tags": []
   },
   "outputs": [],
   "source": [
    "!kubectl delete pvc --all"
   ]
  },
  {
   "cell_type": "code",
   "execution_count": null,
   "id": "e8cde4e5-a240-4bfe-b7f1-42cfd1608597",
   "metadata": {
    "tags": []
   },
   "outputs": [],
   "source": [
    "!kubectl apply -f ./pvc.yml"
   ]
  },
  {
   "cell_type": "code",
   "execution_count": null,
   "id": "87b7c8ab-373b-4a1a-b3c0-b5125978e2d2",
   "metadata": {
    "tags": []
   },
   "outputs": [],
   "source": [
    "!kubectl get pvc"
   ]
  },
  {
   "cell_type": "code",
   "execution_count": null,
   "id": "257f9e56-b217-4006-94d2-acb3f0c7eb98",
   "metadata": {
    "tags": []
   },
   "outputs": [],
   "source": [
    "!kubectl apply -f pod_pvc.yml"
   ]
  },
  {
   "cell_type": "code",
   "execution_count": null,
   "id": "67f584fe-f041-4649-91d7-c9f73e8f47a0",
   "metadata": {
    "tags": []
   },
   "outputs": [],
   "source": [
    "!kubectl get pods"
   ]
  },
  {
   "cell_type": "code",
   "execution_count": null,
   "id": "34ade1c7-05d6-4639-b5dd-cef82b1d7672",
   "metadata": {
    "tags": []
   },
   "outputs": [],
   "source": [
    "!kubectl cp ../scripts/RandomForestMNIST.py gp-engine-unoselab01-pod1:/data/RandomForestMNIST.py"
   ]
  },
  {
   "cell_type": "code",
   "execution_count": null,
   "id": "cd52529d-b4b9-4410-a5d3-a1ceeb2f574e",
   "metadata": {},
   "outputs": [],
   "source": [
    "! kubectl cp ../scripts/ViTCifar10.py gp-engine-unoselab01-pod1:/data/ViTCifar10.py"
   ]
  },
  {
   "cell_type": "code",
   "execution_count": null,
   "id": "d235ab23-9340-4c0f-aecf-c16c36139569",
   "metadata": {
    "tags": []
   },
   "outputs": [],
   "source": [
    "!kubectl exec gp-engine-unoselab01-pod1 -- cat /data/RandomForestMNIST.py"
   ]
  },
  {
   "cell_type": "code",
   "execution_count": null,
   "id": "b22328b9-add4-4df5-aff4-080d233e472e",
   "metadata": {},
   "outputs": [],
   "source": [
    "! kubectl exec gp-engine-unoselab01-pod1 -- cat /data/ViTCifar10.py"
   ]
  },
  {
   "cell_type": "code",
   "execution_count": null,
   "id": "77697524-11ca-44cf-80e3-98f872a7d83c",
   "metadata": {
    "tags": []
   },
   "outputs": [],
   "source": [
    "!kubectl create -f ./sklearn_job.yml"
   ]
  },
  {
   "cell_type": "code",
   "execution_count": null,
   "id": "0c5c2cee-6877-41ce-bce0-202bc8209449",
   "metadata": {
    "tags": []
   },
   "outputs": [],
   "source": [
    "!kubectl get pods"
   ]
  },
  {
   "cell_type": "code",
   "execution_count": null,
   "id": "cc2f999e-b216-4c76-89f5-be45d2b26e44",
   "metadata": {
    "tags": []
   },
   "outputs": [],
   "source": [
    "!job_name=$(kubectl get pods | grep job-sklearn-gp-engine-unoselab01 | awk '{print $1}') && kubectl logs --tail=1 $job_name"
   ]
  },
  {
   "cell_type": "code",
   "execution_count": null,
   "id": "e9fd232d-a789-4628-beb9-2092e5661e66",
   "metadata": {
    "tags": []
   },
   "outputs": [],
   "source": [
    "!kubectl delete jobs --all"
   ]
  },
  {
   "cell_type": "code",
   "execution_count": null,
   "id": "b1b148fa-03c1-4344-8efe-d02a8067033b",
   "metadata": {},
   "outputs": [],
   "source": [
    "! kubectl create -f ./vit_cifar10_job.yml"
   ]
  },
  {
   "cell_type": "code",
   "execution_count": null,
   "id": "bfd0f920-8c84-42ad-9132-85dca652da9e",
   "metadata": {
    "tags": []
   },
   "outputs": [],
   "source": [
    "!kubectl get pods"
   ]
  },
  {
   "cell_type": "code",
   "execution_count": null,
   "id": "71322183-5847-43a2-8730-326b7e2c012a",
   "metadata": {},
   "outputs": [],
   "source": [
    "!job_name=$(kubectl get pods | grep job-vitcifar-gp-engine-unoselab01 | awk '{print $1}') && kubectl logs --tail=5 $job_name"
   ]
  },
  {
   "cell_type": "code",
   "execution_count": null,
   "id": "7d9197e1-befe-42a9-8b32-30d52b737206",
   "metadata": {},
   "outputs": [],
   "source": []
  }
 ],
 "metadata": {
  "kernelspec": {
   "display_name": "Python 3 (ipykernel)",
   "language": "python",
   "name": "python3"
  },
  "language_info": {
   "codemirror_mode": {
    "name": "ipython",
    "version": 3
   },
   "file_extension": ".py",
   "mimetype": "text/x-python",
   "name": "python",
   "nbconvert_exporter": "python",
   "pygments_lexer": "ipython3",
   "version": "3.10.10"
  }
 },
 "nbformat": 4,
 "nbformat_minor": 5
}
