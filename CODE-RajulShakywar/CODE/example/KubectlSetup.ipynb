{
 "cells": [
  {
   "cell_type": "markdown",
   "id": "0d142738-4eac-4565-9953-cea23973831f",
   "metadata": {},
   "source": [
    "# Kubectl Setup\n",
    "\n",
    "This notebook will help ensure you have successfully setup your Kubectl\n"
   ]
  },
  {
   "cell_type": "markdown",
   "id": "5f071755-d764-46f9-9013-f75ab64760df",
   "metadata": {},
   "source": [
    "## Step 1: Run script\n",
    "\n",
    "Run the script to download the kubectl release, make the kubectl binary executable and move the binary to your path"
   ]
  },
  {
   "cell_type": "code",
   "execution_count": null,
   "id": "7b461484-7a17-4ccb-a413-6a73102ef3f2",
   "metadata": {
    "tags": []
   },
   "outputs": [],
   "source": [
    "import subprocess\n",
    "\n",
    "def run_shell_script(script_path):\n",
    "    try:\n",
    "        subprocess.run([\"bash\", script_path], check=True)\n",
    "        print(\"Script executed successfully.\")\n",
    "    except subprocess.CalledProcessError as e:\n",
    "        print(\"Error executing script:\", e)\n",
    "\n",
    "# Example usage:\n",
    "script_path = \"./kubectl-installation.sh\"\n",
    "run_shell_script(script_path)"
   ]
  },
  {
   "cell_type": "markdown",
   "id": "2ab9c626-3546-4570-bd21-558cba589feb",
   "metadata": {},
   "source": [
    "## Step 2: Copying the Config\n",
    "\n",
    "Ensure the output of the previous cell is **Found Config: /path/to/config** before proceeding"
   ]
  },
  {
   "cell_type": "code",
   "execution_count": null,
   "id": "be0e7c42-55c8-4c4f-8a41-9343013ab1e3",
   "metadata": {
    "tags": []
   },
   "outputs": [],
   "source": [
    "from shutil import copy\n",
    "from pathlib import Path\n",
    "\n",
    "dest_dir = Path.home().resolve() / \".kube\"\n",
    "dest_dir.mkdir(exist_ok=True)\n",
    "dest_path = dest_dir / \"config\"\n",
    "\n",
    "if dest_path.is_file():\n",
    "    print(\"SUCCESS: Config correctly configured\")\n",
    "elif cfg_path.is_file() and dest_dir.is_dir():\n",
    "    copy(cfg_path, dest_path)\n",
    "    print(\"SUCCESS: Copied config\")\n",
    "else:\n",
    "    print(\"ERROR: Ensure you have correct config path\")"
   ]
  },
  {
   "cell_type": "markdown",
   "id": "6be2abbe-b382-459a-a4c5-578bd0548573",
   "metadata": {},
   "source": [
    "## Step 4: Test KubeCTL\n",
    "\n",
    "Do not proceed until the output of Step 3 is **SUCCESS**"
   ]
  },
  {
   "cell_type": "code",
   "execution_count": null,
   "id": "a74eb48c-5b8e-4399-a1ef-74f2cf176560",
   "metadata": {
    "tags": []
   },
   "outputs": [],
   "source": [
    "! kubectl config view --minify -o jsonpath='{..namespace}'"
   ]
  },
  {
   "cell_type": "markdown",
   "id": "18e64aa2-de78-477b-a6d1-f295599af9ae",
   "metadata": {},
   "source": [
    "If you have completed all the steps above successfully, you should see the name of your namespace, likely something like starting with `gp-engine-`"
   ]
  }
 ],
 "metadata": {
  "kernelspec": {
   "display_name": "Python 3 (ipykernel)",
   "language": "python",
   "name": "python3"
  },
  "language_info": {
   "codemirror_mode": {
    "name": "ipython",
    "version": 3
   },
   "file_extension": ".py",
   "mimetype": "text/x-python",
   "name": "python",
   "nbconvert_exporter": "python",
   "pygments_lexer": "ipython3",
   "version": "3.10.10"
  }
 },
 "nbformat": 4,
 "nbformat_minor": 5
}
