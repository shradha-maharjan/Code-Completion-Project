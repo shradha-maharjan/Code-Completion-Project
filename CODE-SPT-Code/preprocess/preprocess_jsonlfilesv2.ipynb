{
 "cells": [
  {
   "cell_type": "code",
   "execution_count": 1,
   "metadata": {},
   "outputs": [
    {
     "name": "stdout",
     "output_type": "stream",
     "text": [
      "Total lines of code processed: 181061\n"
     ]
    }
   ],
   "source": [
    "import json\n",
    "import re\n",
    "import logging\n",
    "import os\n",
    "\n",
    "STRING_MATCHING_PATTERN = re.compile(r'([bruf]*)(\\\"\\\"\\\"|\\'\\'\\'|\\\"|\\')(?:(?!\\2)(?:\\\\.|[^\\\\]))*\\2')\n",
    "\n",
    "lang_dir = '/home/user1-system11/Documents/research-shradha/CODE-SPT-Code/dataset/pre_train/java'\n",
    "\n",
    "def replace_string_literal(source):\n",
    "    \"\"\"\n",
    "    Replace the string literal in source code with ``<STR>``.\n",
    "\n",
    "    Args:\n",
    "        source (str): Source code in string\n",
    "\n",
    "    Returns:\n",
    "        str: Code after replaced\n",
    "\n",
    "    \"\"\"\n",
    "    return re.sub(pattern=STRING_MATCHING_PATTERN, repl='___STR', string=source)\n",
    "\n",
    "def parse_java_json_file(file_path):\n",
    "    # sources, codes, names = [], [], []\n",
    "    sources = []\n",
    "    codes =[]\n",
    "    with open(file_path, 'r', encoding='utf-8') as file:\n",
    "        for line in file:\n",
    "            data = json.loads(line.strip())\n",
    "            source = data['code'].strip()\n",
    "            source = replace_string_literal(source)\n",
    "            code = replace_string_literal(' '.join(data.get('code_tokens', [])))\n",
    "            sources.append(source)\n",
    "            codes.append(code)\n",
    "    return sources,codes\n",
    "\n",
    "\n",
    "def iter_all_files(base):\n",
    "    for root, dirs, files in os.walk(base):\n",
    "        for f in files:\n",
    "            yield os.path.join(root, f)\n",
    "\n",
    "def iter_pre_train_dataset_files(lang_dir, lang=\"Java\"):\n",
    "    return [file for file in iter_all_files(base=lang_dir) if file.endswith('.jsonl')]\n",
    "\n",
    "total_lines = 0\n",
    "\n",
    "file_paths = iter_pre_train_dataset_files(lang_dir)\n",
    "for file_path in file_paths:\n",
    "    sources, codes = parse_java_json_file(file_path)\n",
    "    total_lines += len(codes)\n",
    "\n",
    "print(f\"Total lines of code processed: {total_lines}\")\n",
    "# file_paths = iter_pre_train_dataset_files(lang_dir)\n",
    "# for file_path in file_paths:\n",
    "#     sources, codes = parse_java_json_file(file_path)\n",
    "#     for source, code in zip(sources, codes):\n",
    "#         print(f\"Source Code:\\n{source}\\n\")\n",
    "#         print(f\"Code Tokens:\\n{code}\\n\")\n",
    "#     break"
   ]
  },
  {
   "cell_type": "code",
   "execution_count": 2,
   "metadata": {},
   "outputs": [
    {
     "name": "stdout",
     "output_type": "stream",
     "text": [
      "Total lines written to output: 181061\n"
     ]
    }
   ],
   "source": [
    "output_path = '/home/user1-system11/Documents/research-shradha/CODE-SPT-Code/preprocess/pretrain_code_tokens.txt'\n",
    "\n",
    "line_count = 0\n",
    "with open(output_path, 'w', encoding='utf-8') as output_file:\n",
    "    for file_path in file_paths:\n",
    "        _, codes = parse_java_json_file(file_path)\n",
    "        for code in codes:\n",
    "            output_file.write(code + \"\\n\")\n",
    "            line_count += 1  # Increment line count for each write\n",
    "print(f\"Total lines written to output: {line_count}\")"
   ]
  },
  {
   "cell_type": "code",
   "execution_count": null,
   "metadata": {},
   "outputs": [],
   "source": []
  }
 ],
 "metadata": {
  "kernelspec": {
   "display_name": "llm4code-project",
   "language": "python",
   "name": "python3"
  },
  "language_info": {
   "codemirror_mode": {
    "name": "ipython",
    "version": 3
   },
   "file_extension": ".py",
   "mimetype": "text/x-python",
   "name": "python",
   "nbconvert_exporter": "python",
   "pygments_lexer": "ipython3",
   "version": "3.11.3"
  }
 },
 "nbformat": 4,
 "nbformat_minor": 2
}
