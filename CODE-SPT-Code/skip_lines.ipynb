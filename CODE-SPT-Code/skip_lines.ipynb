{
 "cells": [
  {
   "cell_type": "code",
   "execution_count": 3,
   "metadata": {},
   "outputs": [],
   "source": [
    "import json\n",
    "\n",
    "# Define the set of line numbers to skip\n",
    "skip_lines = {\n",
    "    3162 ,5034 ,5768 ,7189 ,7192 ,8159 ,8337 ,8566 ,10652 ,11395 ,12229 ,17221 ,17427 ,28471 ,28777 ,38336 ,42836 ,44240 ,45384 ,46359 ,46810 ,52821 ,52851 ,52884 ,55498 ,60156 ,60411 ,\n",
    "    61666 ,62284 ,63471 ,65378 ,68007 ,71455 ,71559 ,77219 ,79867 ,80521 ,84048 ,85483 ,87170 ,88343 ,88454 ,92689 ,93334 ,95788 ,102350 ,105675 ,106260 ,109135 ,110317 ,112094 ,117209 ,\n",
    "    120220 ,127367 ,129285 ,131028 ,131818 ,133138 ,133222 ,134703 ,137756 ,144768 ,144948 ,158750 ,161408 ,162499\n",
    "}\n",
    "\n",
    "def filter_jsonl(input_file, output_file):\n",
    "    with open(input_file, 'r') as infile, open(output_file, 'w') as outfile:\n",
    "        for i, line in enumerate(infile, start=1):\n",
    "            if i not in skip_lines:\n",
    "                outfile.write(line)\n",
    "\n",
    "# Usage\n",
    "input_file = '/home/user1-system11/Documents/research-spt-code-data/workspace-mvn-vscode-eclipse/jdtparser-sptcode-data/input/train.jsonl'\n",
    "output_file = '/home/user1-system11/Documents/research-shradha/CODE-SPT-Code/dataset/pre_train/java_skippedlines/train.jsonl'\n",
    "filter_jsonl(input_file, output_file)\n"
   ]
  },
  {
   "cell_type": "code",
   "execution_count": 3,
   "metadata": {},
   "outputs": [],
   "source": [
    "import re\n",
    "\n",
    "\n",
    "def camel_split(identifier):\n",
    "    matches = re.finditer('.+?(?:(?<=[a-z])(?=[A-Z])|(?<=[A-Z])(?=[A-Z][a-z])|$)', identifier)\n",
    "    return [m.group(0) for m in matches]\n",
    "\n",
    "def split_identifier(identifier):\n",
    "    words = []\n",
    "\n",
    "    word = re.sub(r'[^a-zA-Z0-9]', ' ', identifier)\n",
    "    word = re.sub(r'(\\d+)', r' \\1 ', word)\n",
    "    split_words = word.strip().split()\n",
    "    for split_word in split_words:\n",
    "        camel_words = camel_split(split_word)\n",
    "        for camel_word in camel_words:\n",
    "            words.append(camel_word.lower())\n",
    "\n",
    "    return words\n",
    "\n",
    "def process_file(input_file, output_file):\n",
    "    \n",
    "    with open(input_file, 'r') as infile, open(output_file, 'w') as outfile:\n",
    "        for line in infile:\n",
    "            name = line.strip()  # Read and strip whitespace\n",
    "            if name:  # Skip empty lines\n",
    "                processed_name = ' '.join(split_identifier(name))\n",
    "                outfile.write(processed_name + '\\n')\n",
    "\n",
    "# Example usage\n",
    "input_file = '/home/user1-system11/Documents/research-spt-code-data/workspace-mvn-vscode-eclipse/jdtparser-sptcode-data/output/unixcoder/train-parsed-func-names.txt'  # Replace with your input file path\n",
    "output_file = '/home/user1-system11/Documents/research-spt-code-data/workspace-mvn-vscode-eclipse/jdtparser-sptcode-data/output/unixcoder/train_processed_function_names.txt'  # Replace with your desired output file path\n",
    "\n",
    "process_file(input_file, output_file)\n"
   ]
  },
  {
   "cell_type": "code",
   "execution_count": null,
   "metadata": {},
   "outputs": [],
   "source": []
  }
 ],
 "metadata": {
  "kernelspec": {
   "display_name": "llm4code-project",
   "language": "python",
   "name": "python3"
  },
  "language_info": {
   "codemirror_mode": {
    "name": "ipython",
    "version": 3
   },
   "file_extension": ".py",
   "mimetype": "text/x-python",
   "name": "python",
   "nbconvert_exporter": "python",
   "pygments_lexer": "ipython3",
   "version": "3.11.3"
  }
 },
 "nbformat": 4,
 "nbformat_minor": 2
}
