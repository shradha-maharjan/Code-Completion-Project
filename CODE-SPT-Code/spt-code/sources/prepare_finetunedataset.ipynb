{
 "cells": [
  {
   "cell_type": "markdown",
   "metadata": {},
   "source": [
    "Save raw methods (RAW method: leftContext + target_seq + rightContext)"
   ]
  },
  {
   "cell_type": "code",
   "execution_count": 1,
   "metadata": {},
   "outputs": [
    {
     "name": "stdout",
     "output_type": "stream",
     "text": [
      "Total input lines read: 10000\n",
      "Total output lines prepared: 10000\n",
      "Data has been processed and saved to /home/user1-selab3/Documents/research-shradha/CODE-SPT-Code/dataset/finetune_raw/java-small-json/finetune_raw_valid_final.txt.\n"
     ]
    }
   ],
   "source": [
    "import json\n",
    "import re\n",
    "\n",
    "# Regular expression pattern to match string literals\n",
    "STRING_MATCHING_PATTERN = re.compile(r'([bruf]*)(\\\"\\\"\\\"|\\'\\'\\'|\\\"|\\')(?:(?!\\2)(?:\\\\.|[^\\\\]))*\\2')\n",
    "\n",
    "def replace_string_literal(source):\n",
    "    \"\"\"Replace string literals in the source code with '___STR'.\"\"\"\n",
    "    return re.sub(pattern=STRING_MATCHING_PATTERN, repl='___STR', string=source)\n",
    "\n",
    "def process_java_code(code):\n",
    "    \"\"\"Apply string literal replacement and other specified replacements to the Java code.\"\"\"\n",
    "    return replace_string_literal(code).replace('\\n', '').replace('=', '').replace(\"\\\\\", \"\").replace(\"\\\"\", \"\").replace(\"\\r\", \"\").replace(\"\\t\", \"\")\n",
    "\n",
    "file_path = '/home/user1-selab3/Documents/research-shradha/CODE-SPT-Code/dataset/finetune_raw/java-small-json/java-small.val.json'\n",
    "output_file_path = '/home/user1-selab3/Documents/research-shradha/CODE-SPT-Code/dataset/finetune_raw/java-small-json/finetune_raw_valid_final.txt'\n",
    "\n",
    "results = []\n",
    "\n",
    "with open(file_path, 'r') as file:\n",
    "    line_count = 0\n",
    "    for line in file:\n",
    "        line_count += 1\n",
    "        try:\n",
    "            json_object = json.loads(line)\n",
    "            left_context = process_java_code(json_object['left_context'])\n",
    "            right_context = process_java_code(json_object['right_context'])\n",
    "            target_seq = process_java_code(json_object['target_seq'])\n",
    "            formatted_string = f\"{left_context} {target_seq} {right_context}\"\n",
    "            enclosed_string = f\"\\\"{formatted_string}\\\"\"\n",
    "            results.append(enclosed_string)\n",
    "        except json.JSONDecodeError:\n",
    "            print(f\"Error decoding JSON on input line {line_count}\")\n",
    "            results.append(f\"\\\"Error in JSON format on line {line_count}\\\"\")\n",
    "\n",
    "print(f\"Total input lines read: {line_count}\")\n",
    "print(f\"Total output lines prepared: {len(results)}\")\n",
    "\n",
    "with open(output_file_path, 'w') as output_file:\n",
    "    for item in results:\n",
    "        output_file.write(item + '\\n')\n",
    "\n",
    "print(f\"Data has been processed and saved to {output_file_path}.\")\n"
   ]
  },
  {
   "cell_type": "markdown",
   "metadata": {},
   "source": [
    "Save {PRED} methods (RAW method: leftContext + PRED + rightContext)"
   ]
  },
  {
   "cell_type": "code",
   "execution_count": 2,
   "metadata": {},
   "outputs": [
    {
     "name": "stdout",
     "output_type": "stream",
     "text": [
      "Total input lines read: 10000\n",
      "Total output lines prepared: 10000\n",
      "Data has been processed and saved to /home/user1-selab3/Documents/research-shradha/CODE-SPT-Code/dataset/finetune_raw/java-small-json/finetune_pred_valid_final.txt.\n"
     ]
    }
   ],
   "source": [
    "import json\n",
    "import re\n",
    "\n",
    "# Regular expression pattern to match string literals\n",
    "STRING_MATCHING_PATTERN = re.compile(r'([bruf]*)(\\\"\\\"\\\"|\\'\\'\\'|\\\"|\\')(?:(?!\\2)(?:\\\\.|[^\\\\]))*\\2')\n",
    "\n",
    "def replace_string_literal(source):\n",
    "    \"\"\"Replace string literals in the source code with '___STR'.\"\"\"\n",
    "    return re.sub(pattern=STRING_MATCHING_PATTERN, repl='___STR', string=source)\n",
    "\n",
    "def process_java_code(code):\n",
    "    \"\"\"Apply string literal replacement and other specified replacements to the Java code.\"\"\"\n",
    "    return replace_string_literal(code).replace('\\n', '').replace('=', '').replace(\"\\\\\", \"\").replace(\"\\\"\", \"\").replace(\"\\r\", \"\").replace(\"\\t\", \"\")\n",
    "\n",
    "file_path = '/home/user1-selab3/Documents/research-shradha/CODE-SPT-Code/dataset/finetune_raw/java-small-json/java-small.val.json'\n",
    "output_file_path = '/home/user1-selab3/Documents/research-shradha/CODE-SPT-Code/dataset/finetune_raw/java-small-json/finetune_pred_valid_final.txt'\n",
    "\n",
    "results = []\n",
    "\n",
    "with open(file_path, 'r') as file:\n",
    "    line_count = 0\n",
    "    for line in file:\n",
    "        line_count += 1\n",
    "        try:\n",
    "            json_object = json.loads(line)\n",
    "            left_context = process_java_code(json_object['left_context'])\n",
    "            right_context = process_java_code(json_object['right_context'])\n",
    "            target_seq = process_java_code(json_object['target_seq'])\n",
    "            formatted_string = f\"{left_context} PRED {right_context}\"\n",
    "            enclosed_string = f\"\\\"{formatted_string}\\\"\"\n",
    "            results.append(enclosed_string)\n",
    "        except json.JSONDecodeError:\n",
    "            print(f\"Error decoding JSON on input line {line_count}\")\n",
    "            results.append(f\"\\\"Error in JSON format on line {line_count}\\\"\")\n",
    "\n",
    "print(f\"Total input lines read: {line_count}\")\n",
    "print(f\"Total output lines prepared: {len(results)}\")\n",
    "\n",
    "with open(output_file_path, 'w') as output_file:\n",
    "    for item in results:\n",
    "        output_file.write(item + '\\n')\n",
    "\n",
    "print(f\"Data has been processed and saved to {output_file_path}.\")"
   ]
  },
  {
   "cell_type": "markdown",
   "metadata": {},
   "source": [
    "To save both the lines in a single file:"
   ]
  },
  {
   "cell_type": "code",
   "execution_count": 5,
   "metadata": {},
   "outputs": [
    {
     "name": "stdout",
     "output_type": "stream",
     "text": [
      "Total input lines read: 1309842\n",
      "Total output lines prepared: 2619684\n",
      "Data has been processed and saved to /home/user1-selab3/Documents/research-shradha/CODE-SPT-Code/dataset/finetune_raw/java-small-json/finetune-train-pre-raw.txt.\n"
     ]
    }
   ],
   "source": [
    "import json\n",
    "import re\n",
    "\n",
    "# Regular expression pattern to match string literals\n",
    "STRING_MATCHING_PATTERN = re.compile(r'([bruf]*)(\\\"\\\"\\\"|\\'\\'\\'|\\\"|\\')(?:(?!\\2)(?:\\\\.|[^\\\\]))*\\2')\n",
    "\n",
    "def replace_string_literal(source):\n",
    "    \"\"\"Replace string literals in the source code with '___STR'.\"\"\"\n",
    "    return re.sub(pattern=STRING_MATCHING_PATTERN, repl='___STR', string=source)\n",
    "\n",
    "def process_java_code(code):\n",
    "    \"\"\"Apply string literal replacement and other specified replacements to the Java code.\"\"\"\n",
    "    return replace_string_literal(code).replace('\\n', '').replace('=', '').replace(\"\\\\\", \"\").replace(\"\\\"\", \"\").replace(\"\\r\", \"\").replace(\"\\t\", \"\")\n",
    "\n",
    "file_path = '/home/user1-selab3/Documents/research-shradha/CODE-SPT-Code/dataset/finetune_raw/java-small-json/java-small.train.json'\n",
    "output_file_path = '/home/user1-selab3/Documents/research-shradha/CODE-SPT-Code/dataset/finetune_raw/java-small-json/finetune-train-pre-raw.txt'\n",
    "\n",
    "results = []\n",
    "\n",
    "with open(file_path, 'r') as file:\n",
    "    line_count = 0\n",
    "    for line in file:\n",
    "        line_count += 1\n",
    "        try:\n",
    "            json_object = json.loads(line)\n",
    "            left_context = process_java_code(json_object['left_context'])\n",
    "            right_context = process_java_code(json_object['right_context'])\n",
    "            target_seq = process_java_code(json_object['target_seq'])\n",
    "            \n",
    "            # Formatted string with target sequence included\n",
    "            complete_method = f\"{left_context} {target_seq} {right_context}\"\n",
    "            # Formatted string with 'PRED' placeholder\n",
    "            predicted_method = f\"{left_context} PRED {right_context}\"\n",
    "            \n",
    "            # Append both strings to the results, each on a new line\n",
    "            results.append(complete_method)\n",
    "            results.append(predicted_method)\n",
    "        except json.JSONDecodeError:\n",
    "            print(f\"Error decoding JSON on input line {line_count}\")\n",
    "            results.append(f\"Error in JSON format on line {line_count}\")\n",
    "            results.append(f\"Error in JSON format on line {line_count}\")\n",
    "\n",
    "print(f\"Total input lines read: {line_count}\")\n",
    "print(f\"Total output lines prepared: {len(results)}\")\n",
    "\n",
    "with open(output_file_path, 'w') as output_file:\n",
    "    for item in results:\n",
    "        output_file.write(item + '\\n')\n",
    "\n",
    "print(f\"Data has been processed and saved to {output_file_path}.\")\n"
   ]
  },
  {
   "cell_type": "code",
   "execution_count": null,
   "metadata": {},
   "outputs": [],
   "source": []
  },
  {
   "cell_type": "code",
   "execution_count": null,
   "metadata": {},
   "outputs": [],
   "source": []
  }
 ],
 "metadata": {
  "kernelspec": {
   "display_name": "myenv_python3_11",
   "language": "python",
   "name": "python3"
  },
  "language_info": {
   "codemirror_mode": {
    "name": "ipython",
    "version": 3
   },
   "file_extension": ".py",
   "mimetype": "text/x-python",
   "name": "python",
   "nbconvert_exporter": "python",
   "pygments_lexer": "ipython3",
   "version": "3.1.-1"
  }
 },
 "nbformat": 4,
 "nbformat_minor": 2
}
