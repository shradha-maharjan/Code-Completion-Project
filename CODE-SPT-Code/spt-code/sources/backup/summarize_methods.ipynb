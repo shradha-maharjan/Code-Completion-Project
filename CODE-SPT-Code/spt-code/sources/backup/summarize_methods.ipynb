{
 "cells": [
  {
   "cell_type": "code",
   "execution_count": 11,
   "metadata": {},
   "outputs": [
    {
     "name": "stdout",
     "output_type": "stream",
     "text": [
      "{'Index': 1, 'Method Name': 'createConfigurationPersister', '#Tokens': 42, '#Method Calls': 7}\n"
     ]
    }
   ],
   "source": [
    "import csv\n",
    "\n",
    "# data = [\n",
    "#     {\"Index\": 1, \"Method Name\": \"rot\", \"#Tokens\": 45, \"#Method Calls\": 1},\n",
    "#     {\"Index\": 2, \"Method Name\": \"resumeSound\", \"#Tokens\": 16, \"#Method Calls\": 4},\n",
    "#     {\"Index\": 3, \"Method Name\": \"putVertex\", \"#Tokens\": 136, \"#Method Calls\": 0},\n",
    "#     {\"Index\": 4, \"Method Name\": \"derivative\", \"#Tokens\": 68, \"#Method Calls\": 11},\n",
    "#     {\"Index\": 5, \"Method Name\": \"getNumPoints\", \"#Tokens\": 5, \"#Method Calls\": 1},\n",
    "#     {\"Index\": 6, \"Method Name\": \"stopSourcesWithBuffer\", \"#Tokens\": 31, \"#Method Calls\": 6},\n",
    "#     {\"Index\": 7, \"Method Name\": \"readClassDefinition\", \"#Tokens\": 33, \"#Method Calls\": 4},\n",
    "#     {\"Index\": 8, \"Method Name\": \"draw\", \"#Tokens\": 60, \"#Method Calls\": 5},\n",
    "#     {\"Index\": 9, \"Method Name\": \"set\", \"#Tokens\": 14, \"#Method Calls\": 0},\n",
    "#     {\"Index\": 10, \"Method Name\": \"EncodeDirectBits\", \"#Tokens\": 19, \"#Method Calls\": 1},\n",
    "# ]\n",
    "\n",
    "file_name = 'finetune_methods_train_final.csv'\n",
    "data = []\n",
    "\n",
    "with open(file_name, mode='r') as file:\n",
    "    csv_reader = csv.DictReader(file)\n",
    "    for row in csv_reader:\n",
    "        data.append({\n",
    "            \"Index\": int(row[\"Index\"]),\n",
    "            \"Method Name\": row[\"Method Name\"].strip(),\n",
    "            \"#Tokens\": int(row[\"#Tokens\"]),\n",
    "            \"#Method Calls\": int(row[\"#Method Calls\"])\n",
    "        })\n",
    "\n",
    "for row in data:\n",
    "    print(row)\n",
    "    break\n"
   ]
  },
  {
   "cell_type": "code",
   "execution_count": 12,
   "metadata": {},
   "outputs": [
    {
     "name": "stdout",
     "output_type": "stream",
     "text": [
      "[(1, 5), (6, 10), (11, 15), (16, 20), (21, 25), (26, 30), (31, 35), (36, 40), (41, 45), (46, 50), (51, 55), (56, 60), (61, 65), (66, 70), (71, 75), (76, 80), (81, 85), (86, 90), (91, 95), (96, 100), (101, 105), (106, 110), (111, 115), (116, 120), (121, 125), (126, 130), (131, 135), (136, 140), (141, 145), (146, 150), (151, 155), (156, 160), (161, 165), (166, 170), (171, 175), (176, 180), (181, 185), (186, 190), (191, 195), (196, 200), (201, 205), (206, 210), (211, 215), (216, 220), (221, 225), (226, 230), (231, 235), (236, 240), (241, 245), (251, 260), (261, 270), (271, 280), (281, 290), (291, 300), (301, 310), (311, 320), (321, 330), (331, 340), (341, 350), (351, 360), (361, 370), (371, 380), (381, 390), (391, 400), (401, 410), (411, 420), (421, 430), (431, 440), (441, 450), (451, 460), (461, 470), (471, 480), (481, 490), (491, 500), (501, 510), (511, 520), (520, 1000)]\n",
      "Summarized data has been written to 'summarized_methods.csv'.\n"
     ]
    }
   ],
   "source": [
    "\n",
    "file_name = 'input_ranges.csv'\n",
    "ranges = []\n",
    "\n",
    "with open(file_name, mode='r') as file:\n",
    "    csv_reader = csv.reader(file)\n",
    "    for row in csv_reader:\n",
    "        ranges.append((int(row[0]), int(row[1])))\n",
    "\n",
    "print(ranges)\n",
    "\n",
    "range_counts = []\n",
    "\n",
    "for r in ranges:\n",
    "    count = sum(1 for d in data if r[0] <= d[\"#Tokens\"] <= r[1])\n",
    "    range_counts.append((r[0], r[1], count))\n",
    "\n",
    "with open('/home/user1-selab3/Documents/research-shradha/CODE-SPT-Code/spt-code/sources/backup/summarized_methods.csv', mode='w', newline='') as file:\n",
    "    writer = csv.writer(file)\n",
    "    writer.writerow([\"Ranges of Tokens BGN\", \"Ranges of Tokens END\", \"# Methods\"])\n",
    "    for r in range_counts:\n",
    "        writer.writerow(r)\n",
    "\n",
    "print(\"Summarized data has been written to 'summarized_methods.csv'.\")"
   ]
  },
  {
   "cell_type": "code",
   "execution_count": null,
   "metadata": {},
   "outputs": [],
   "source": []
  }
 ],
 "metadata": {
  "kernelspec": {
   "display_name": "myenv_python3_11",
   "language": "python",
   "name": "python3"
  },
  "language_info": {
   "codemirror_mode": {
    "name": "ipython",
    "version": 3
   },
   "file_extension": ".py",
   "mimetype": "text/x-python",
   "name": "python",
   "nbconvert_exporter": "python",
   "pygments_lexer": "ipython3",
   "version": "3.1.-1"
  }
 },
 "nbformat": 4,
 "nbformat_minor": 2
}
