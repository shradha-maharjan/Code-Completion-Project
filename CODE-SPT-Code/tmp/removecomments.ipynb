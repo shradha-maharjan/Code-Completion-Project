{
 "cells": [
  {
   "cell_type": "code",
   "execution_count": 7,
   "metadata": {},
   "outputs": [
    {
     "name": "stdout",
     "output_type": "stream",
     "text": [
      "abc abc2\n"
     ]
    }
   ],
   "source": [
    "import re\n",
    "\n",
    "def remove_comments_and_docstrings(source):\n",
    "    \"\"\"\n",
    "    Remove docs and comments from source string.\n",
    "    Thanks to authors of GraphCodeBERT\n",
    "    from: https://github.com/microsoft/CodeBERT/blob/master/GraphCodeBERT/codesearch/parser/utils.py#L4\n",
    "\n",
    "    Args:\n",
    "        source (str): Source code string\n",
    "        lang (str): Source code language\n",
    "\n",
    "    Returns:\n",
    "        str: Source string\n",
    "\n",
    "    \"\"\"\n",
    "    def replacer(match):\n",
    "        s = match.group(0)\n",
    "        if s.startswith('/'):\n",
    "            return \" \"  # note: a space and not an empty string\n",
    "        else:\n",
    "            return s\n",
    "\n",
    "    pattern = re.compile(\n",
    "        r'//.*?$|/\\*.*?\\*/|\\'(?:\\\\.|[^\\\\\\'])*\\'|\"(?:\\\\.|[^\\\\\"])*\"',\n",
    "        re.DOTALL | re.MULTILINE\n",
    "    )\n",
    "    temp = []\n",
    "    for x in re.sub(pattern, replacer, source).split('\\n'):\n",
    "        if x.strip() != \"\":\n",
    "            temp.append(x)\n",
    "    return '\\n'.join(temp)\n",
    "\n",
    "source = \"abc/*def*/abc2\"\n",
    "result = remove_comments_and_docstrings(source)\n",
    "print(result)"
   ]
  },
  {
   "cell_type": "code",
   "execution_count": null,
   "metadata": {},
   "outputs": [],
   "source": []
  }
 ],
 "metadata": {
  "kernelspec": {
   "display_name": "llm4code-project",
   "language": "python",
   "name": "python3"
  },
  "language_info": {
   "codemirror_mode": {
    "name": "ipython",
    "version": 3
   },
   "file_extension": ".py",
   "mimetype": "text/x-python",
   "name": "python",
   "nbconvert_exporter": "python",
   "pygments_lexer": "ipython3",
   "version": "3.11.3"
  }
 },
 "nbformat": 4,
 "nbformat_minor": 2
}
