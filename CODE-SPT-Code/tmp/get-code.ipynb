{
 "cells": [
  {
   "cell_type": "code",
   "execution_count": null,
   "metadata": {},
   "outputs": [],
   "source": [
    "code_token = [\"public\", \"final\", \"Mono\", \"<\", \"T\", \">\", \"onErrorResume\", \"(\", \"Function\", \"<\", \"?\", \"super\", \"Throwable\", \",\", \"?\", \"extends\", \"Mono\", \"<\", \"?\", \"extends\", \"T\", \">\", \">\", \"fallback\", \")\", \"{\", \"return\", \"onAssembly\", \"(\", \"new\", \"MonoOnErrorResume\", \"<\", \">\", \"(\", \"this\", \",\", \"fallback\", \")\", \")\", \";\", \"}\"]"
   ]
  },
  {
   "cell_type": "code",
   "execution_count": null,
   "metadata": {},
   "outputs": [],
   "source": [
    "import re\n",
    "STRING_MATCHING_PATTERN = re.compile(r'([bruf]*)(\\\"\\\"\\\"|\\'\\'\\'|\\\"|\\')(?:(?!\\2)(?:\\\\.|[^\\\\]))*\\2')"
   ]
  },
  {
   "cell_type": "code",
   "execution_count": null,
   "metadata": {
    "vscode": {
     "languageId": "plaintext"
    }
   },
   "outputs": [],
   "source": [
    "def replace_string_literal(source):\n",
    "    \"\"\"\n",
    "    Replace the string literal in source code with ``<STR>``.\n",
    "\n",
    "    Args:\n",
    "        source (str): Source code in string\n",
    "\n",
    "    Returns:\n",
    "        str: Code after replaced\n",
    "\n",
    "    \"\"\"\n",
    "    return re.sub(pattern=STRING_MATCHING_PATTERN, repl='___STR', string=source)"
   ]
  },
  {
   "cell_type": "code",
   "execution_count": null,
   "metadata": {},
   "outputs": [],
   "source": [
    "code = replace_string_literal(' '.join(data['code_tokens']))"
   ]
  }
 ],
 "metadata": {
  "language_info": {
   "name": "python"
  }
 },
 "nbformat": 4,
 "nbformat_minor": 2
}
