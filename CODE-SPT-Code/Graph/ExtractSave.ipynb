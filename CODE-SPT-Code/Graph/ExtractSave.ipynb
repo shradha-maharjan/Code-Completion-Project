{
 "cells": [
  {
   "cell_type": "code",
   "execution_count": 3,
   "metadata": {},
   "outputs": [
    {
     "name": "stdout",
     "output_type": "stream",
     "text": [
      "Metrics extracted and saved to /home/user1-system11/Documents/research-shradha/CODE-SPT-Code/Graph/large_eval_metrics.csv\n"
     ]
    }
   ],
   "source": [
    "import re\n",
    "import csv\n",
    "\n",
    "def extract_and_save_metrics(input_file, output_file):\n",
    "    # Define regex patterns for eval_loss, eval_bleu, and eval_accuracy\n",
    "    epoch_pattern = r\"Start epoch (\\d+)\"\n",
    "    loss_pattern = r\"eval_loss:\\s([\\d.]+)\"\n",
    "    bleu_pattern = r\"eval_bleu:\\s([\\d.]+)\"\n",
    "    accuracy_pattern = r\"eval_accuracy:\\s([\\d.]+)\"\n",
    "    \n",
    "    # Read the input file\n",
    "    with open(input_file, \"r\") as file:\n",
    "        content = file.read()\n",
    "    \n",
    "    # Extract values using regex\n",
    "    epoch = re.findall(epoch_pattern, content)\n",
    "    eval_loss = re.findall(loss_pattern, content)\n",
    "    eval_bleu = re.findall(bleu_pattern, content)\n",
    "    eval_accuracy = re.findall(accuracy_pattern, content)\n",
    "    \n",
    "    # Combine extracted values into a structured format\n",
    "    data = list(zip(epoch, eval_loss, eval_bleu, eval_accuracy))\n",
    "    \n",
    "    # Write the data to a CSV file\n",
    "    with open(output_file, mode=\"w\", newline=\"\") as file:\n",
    "        writer = csv.writer(file)\n",
    "        writer.writerow([\"epoch\",\"eval_loss\", \"eval_bleu\", \"eval_accuracy\"])  # Write headers\n",
    "        writer.writerows(data)  # Write the data rows\n",
    "\n",
    "# Define the input and output file paths\n",
    "input_file = \"/home/user1-system11/Documents/research-shradha/CODE-SPT-Code/Graph/largeinfo.log\"  # Replace with the path to your input file\n",
    "output_file = \"/home/user1-system11/Documents/research-shradha/CODE-SPT-Code/Graph/large_eval_metrics.csv\"  # Output CSV file\n",
    "\n",
    "# Run the function\n",
    "extract_and_save_metrics(input_file, output_file)\n",
    "\n",
    "print(f\"Metrics extracted and saved to {output_file}\")\n"
   ]
  },
  {
   "cell_type": "code",
   "execution_count": null,
   "metadata": {},
   "outputs": [],
   "source": []
  }
 ],
 "metadata": {
  "kernelspec": {
   "display_name": "llm4code-project",
   "language": "python",
   "name": "python3"
  },
  "language_info": {
   "codemirror_mode": {
    "name": "ipython",
    "version": 3
   },
   "file_extension": ".py",
   "mimetype": "text/x-python",
   "name": "python",
   "nbconvert_exporter": "python",
   "pygments_lexer": "ipython3",
   "version": "3.11.3"
  }
 },
 "nbformat": 4,
 "nbformat_minor": 2
}
