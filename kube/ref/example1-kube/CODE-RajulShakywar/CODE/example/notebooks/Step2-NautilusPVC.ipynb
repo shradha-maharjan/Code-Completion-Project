{
 "cells": [
  {
   "cell_type": "markdown",
   "id": "4c836078-7ad1-477b-a059-4a562e771611",
   "metadata": {},
   "source": [
    "# Nautilus Persistent Volume Creation\n",
    "\n",
    "This notebook will help you create a persistent volume on the Nautilus cluster"
   ]
  },
  {
   "cell_type": "markdown",
   "id": "1f08cb04-728b-4b6f-86c7-e5413407d9e7",
   "metadata": {},
   "source": [
    "## Step 0: Prerequisites\n",
    "* You have been added to a Nautilus namespace\n",
    "* You have cloned down the Big Data repository"
   ]
  },
  {
   "cell_type": "markdown",
   "id": "513d647b-8b17-43e9-9771-0a202b259207",
   "metadata": {},
   "source": [
    "## Step 1: Load the Template YAML File\n",
    "\n",
    "We will be using a template of a PVC creation YAML to make this process easy:\n",
    "\n",
    "```yaml\n",
    "apiVersion: v1\n",
    "kind: PersistentVolumeClaim\n",
    "metadata:\n",
    "  name: {{ name }}\n",
    "spec:\n",
    "  storageClassName: rook-cephfs-central\n",
    "  accessModes:\n",
    "  - ReadWriteMany\n",
    "  resources:\n",
    "    requests:\n",
    "      storage: 50Gi\n",
    "```\n",
    "\n",
    "We are creating a persistent volume in the rook CephFS central storage pool with 50 GB of storage.\n",
    "\n",
    "Let's load our template using a template engine called `jinja2`:"
   ]
  },
  {
   "cell_type": "code",
   "execution_count": 1,
   "id": "b1e0871e-192c-4d82-bfaf-0218d5b22564",
   "metadata": {},
   "outputs": [
    {
     "ename": "FileNotFoundError",
     "evalue": "[Errno 2] No such file or directory: '../yaml/pvc_template.yml'",
     "output_type": "error",
     "traceback": [
      "\u001b[0;31m---------------------------------------------------------------------------\u001b[0m",
      "\u001b[0;31mFileNotFoundError\u001b[0m                         Traceback (most recent call last)",
      "Cell \u001b[0;32mIn[1], line 4\u001b[0m\n\u001b[1;32m      1\u001b[0m \u001b[38;5;28;01mfrom\u001b[39;00m \u001b[38;5;21;01mjinja2\u001b[39;00m \u001b[38;5;28;01mimport\u001b[39;00m Template\n\u001b[1;32m      3\u001b[0m \u001b[38;5;66;03m# read in the template\u001b[39;00m\n\u001b[0;32m----> 4\u001b[0m \u001b[38;5;28;01mwith\u001b[39;00m \u001b[38;5;28;43mopen\u001b[39;49m\u001b[43m(\u001b[49m\u001b[38;5;124;43m'\u001b[39;49m\u001b[38;5;124;43m../yaml/pvc_template.yml\u001b[39;49m\u001b[38;5;124;43m'\u001b[39;49m\u001b[43m)\u001b[49m \u001b[38;5;28;01mas\u001b[39;00m file_:\n\u001b[1;32m      5\u001b[0m     template \u001b[38;5;241m=\u001b[39m Template(file_\u001b[38;5;241m.\u001b[39mread())\n",
      "File \u001b[0;32m~/miniconda3/envs/myenv_python3_11/lib/python3.11/site-packages/IPython/core/interactiveshell.py:310\u001b[0m, in \u001b[0;36m_modified_open\u001b[0;34m(file, *args, **kwargs)\u001b[0m\n\u001b[1;32m    303\u001b[0m \u001b[38;5;28;01mif\u001b[39;00m file \u001b[38;5;129;01min\u001b[39;00m {\u001b[38;5;241m0\u001b[39m, \u001b[38;5;241m1\u001b[39m, \u001b[38;5;241m2\u001b[39m}:\n\u001b[1;32m    304\u001b[0m     \u001b[38;5;28;01mraise\u001b[39;00m \u001b[38;5;167;01mValueError\u001b[39;00m(\n\u001b[1;32m    305\u001b[0m         \u001b[38;5;124mf\u001b[39m\u001b[38;5;124m\"\u001b[39m\u001b[38;5;124mIPython won\u001b[39m\u001b[38;5;124m'\u001b[39m\u001b[38;5;124mt let you open fd=\u001b[39m\u001b[38;5;132;01m{\u001b[39;00mfile\u001b[38;5;132;01m}\u001b[39;00m\u001b[38;5;124m by default \u001b[39m\u001b[38;5;124m\"\u001b[39m\n\u001b[1;32m    306\u001b[0m         \u001b[38;5;124m\"\u001b[39m\u001b[38;5;124mas it is likely to crash IPython. If you know what you are doing, \u001b[39m\u001b[38;5;124m\"\u001b[39m\n\u001b[1;32m    307\u001b[0m         \u001b[38;5;124m\"\u001b[39m\u001b[38;5;124myou can use builtins\u001b[39m\u001b[38;5;124m'\u001b[39m\u001b[38;5;124m open.\u001b[39m\u001b[38;5;124m\"\u001b[39m\n\u001b[1;32m    308\u001b[0m     )\n\u001b[0;32m--> 310\u001b[0m \u001b[38;5;28;01mreturn\u001b[39;00m \u001b[43mio_open\u001b[49m\u001b[43m(\u001b[49m\u001b[43mfile\u001b[49m\u001b[43m,\u001b[49m\u001b[43m \u001b[49m\u001b[38;5;241;43m*\u001b[39;49m\u001b[43margs\u001b[49m\u001b[43m,\u001b[49m\u001b[43m \u001b[49m\u001b[38;5;241;43m*\u001b[39;49m\u001b[38;5;241;43m*\u001b[39;49m\u001b[43mkwargs\u001b[49m\u001b[43m)\u001b[49m\n",
      "\u001b[0;31mFileNotFoundError\u001b[0m: [Errno 2] No such file or directory: '../yaml/pvc_template.yml'"
     ]
    }
   ],
   "source": [
    "from jinja2 import Template\n",
    "\n",
    "# read in the template\n",
    "with open('../yaml/pvc_template.yml') as file_:\n",
    "    template = Template(file_.read())"
   ]
  },
  {
   "cell_type": "markdown",
   "id": "40835a10-d9e7-4423-ba95-e5908e182e80",
   "metadata": {},
   "source": [
    "## Step 2: Render and Save the YAML File\n",
    "\n",
    "Now, we can replace the name of the PVC we are going to create, and save the YAML File. \n",
    "\n",
    "Be sure to use something like your initials in the name of the PVC. Every namespace can only have a single PVC with a given name."
   ]
  },
  {
   "cell_type": "code",
   "execution_count": 7,
   "id": "c57ba981-54e3-44cd-819a-1059b0552ab7",
   "metadata": {},
   "outputs": [],
   "source": [
    "# replace None \n",
    "PVC_NAME = None\n",
    "\n",
    "pvc_spec = template.render(name=PVC_NAME)"
   ]
  },
  {
   "cell_type": "markdown",
   "id": "b2f935a1-5647-4064-8339-7697eb13bca2",
   "metadata": {},
   "source": [
    "Let's view our rendered YAML:"
   ]
  },
  {
   "cell_type": "code",
   "execution_count": 8,
   "id": "79b973b3-c9bd-4d8e-9141-5d9f89e975d1",
   "metadata": {},
   "outputs": [
    {
     "name": "stdout",
     "output_type": "stream",
     "text": [
      "apiVersion: v1\n",
      "kind: PersistentVolumeClaim\n",
      "metadata:\n",
      "  name: gp-engine-unoselab01-pvc\n",
      "spec:\n",
      "  storageClassName: rook-cephfs-central\n",
      "  accessModes:\n",
      "  - ReadWriteMany\n",
      "  resources:\n",
      "    requests:\n",
      "      storage: 50Gi\n"
     ]
    }
   ],
   "source": [
    "print(pvc_spec)"
   ]
  },
  {
   "cell_type": "markdown",
   "id": "f4ff9ded-aa83-496c-830c-990082595603",
   "metadata": {},
   "source": [
    "Finally, let's save the YAML to disk:"
   ]
  },
  {
   "cell_type": "code",
   "execution_count": 10,
   "id": "59722e2c-01d3-487e-bbf0-eb92830aa314",
   "metadata": {},
   "outputs": [],
   "source": [
    "with open(\"./pvc_create.yml\", \"w\") as file:\n",
    "    file.write(pvc_spec)"
   ]
  },
  {
   "cell_type": "markdown",
   "id": "f7927537-2643-42b4-a828-23412623e31a",
   "metadata": {},
   "source": [
    "## Step 3: Create the PVC\n",
    "\n",
    "Now, we need to invoke KubeCTL with our saved YAML file to create the PVC"
   ]
  },
  {
   "cell_type": "code",
   "execution_count": 11,
   "id": "aa86923d-acb8-4c37-9ef6-39cb9b227bba",
   "metadata": {},
   "outputs": [
    {
     "name": "stdout",
     "output_type": "stream",
     "text": [
      "persistentvolumeclaim/gp-engine-unoselab01-pvc created\n"
     ]
    }
   ],
   "source": [
    "! kubectl create -f ./pvc-shradha.yml"
   ]
  },
  {
   "cell_type": "markdown",
   "id": "82b57934-cabd-4126-a608-dc7a76e63430",
   "metadata": {},
   "source": [
    "## Step 4: Verify PVC Creation\n",
    "\n",
    "The output of Step 3 should have been something such as:\n",
    "```\n",
    "persistentvolumeclaim/YOURNAME created\n",
    "```\n",
    "\n",
    "Let's view all of the PVC in our namespace and ensure we find ours:"
   ]
  },
  {
   "cell_type": "code",
   "execution_count": 13,
   "id": "571a650e-1101-4e77-b179-a43301abbaa7",
   "metadata": {},
   "outputs": [
    {
     "name": "stdout",
     "output_type": "stream",
     "text": [
      "NAME                       STATUS   VOLUME                                     CAPACITY   ACCESS MODES   STORAGECLASS          AGE\n",
      "pvc-gp-engine-unoselab01   Bound    pvc-3c27adfd-d9aa-45ff-af1a-c0232610bf5d   50Gi       RWX            rook-cephfs-central   3h43m\n"
     ]
    }
   ],
   "source": [
    "! kubectl get pvc"
   ]
  },
  {
   "cell_type": "code",
   "execution_count": null,
   "id": "05a40d51-d3fd-4771-b83a-3839e73e9ac8",
   "metadata": {},
   "outputs": [],
   "source": []
  }
 ],
 "metadata": {
  "kernelspec": {
   "display_name": "Python 3 (ipykernel)",
   "language": "python",
   "name": "python3"
  },
  "language_info": {
   "codemirror_mode": {
    "name": "ipython",
    "version": 3
   },
   "file_extension": ".py",
   "mimetype": "text/x-python",
   "name": "python",
   "nbconvert_exporter": "python",
   "pygments_lexer": "ipython3",
   "version": "3.11.7"
  }
 },
 "nbformat": 4,
 "nbformat_minor": 5
}
