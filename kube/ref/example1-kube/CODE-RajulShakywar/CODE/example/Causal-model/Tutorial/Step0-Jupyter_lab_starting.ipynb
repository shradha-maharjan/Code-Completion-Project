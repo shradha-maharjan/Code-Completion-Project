{
 "cells": [
  {
   "cell_type": "markdown",
   "id": "9257db45-6b86-4b37-9d56-72dd88a0ac8e",
   "metadata": {},
   "source": [
    "# Jupyter lab starting\n",
    "\n",
    "##### This notebook will help you to run and access Jupyter Lab instance."
   ]
  },
  {
   "cell_type": "markdown",
   "id": "920cd847",
   "metadata": {},
   "source": [
    "## Step 1: Go to Jupyter lab portal  \n",
    "\n",
    "Go to ``Link`` - https://jupyterhub-west.nrp-nautilus.io and click on ``CILogon``"
   ]
  },
  {
   "cell_type": "markdown",
   "id": "ee3fa41d-d84e-47fc-b6b9-a64cd683fda5",
   "metadata": {
    "tags": []
   },
   "source": [
    "<img src=\"./media/jupyer_lab_login1.png\" />"
   ]
  },
  {
   "cell_type": "markdown",
   "id": "6ecf6ed8",
   "metadata": {},
   "source": [
    "## Step 2: Login   \n",
    "\n",
    "##### Step 2A Select your university and click on ``Log On``\n",
    "\n",
    "<img src=\"./media/Jupyer_lab_university_selection.png\" />"
   ]
  },
  {
   "cell_type": "markdown",
   "id": "a234af1d",
   "metadata": {},
   "source": [
    "##### Step 2B ``LOGIN`` with your university credentials.\n",
    "<img src=\"./media/Jupyter_lab_university_login.png\" />\n"
   ]
  },
  {
   "cell_type": "markdown",
   "id": "91f1d303",
   "metadata": {},
   "source": [
    "## Step 3: Launch Jupyter lab instance   \n",
    "\n",
    "##### Step 3A After successfully logging in, you'll find an option to ``Launch Server``. Simply click on it.\n",
    "\n",
    "<img src=\"./media/Jupter_lab_launch_server.png\" />"
   ]
  },
  {
   "cell_type": "markdown",
   "id": "ee7ad916",
   "metadata": {},
   "source": [
    "##### Step 3B Fill any specific required server details or leave it as default and click on ``Start``. \n",
    "\n",
    "<img src=\"./media/Jupter_lab_server_details.png\" />\n",
    "<img src=\"./media/jupter_lab_click_start_server.png\" />"
   ]
  },
  {
   "cell_type": "markdown",
   "id": "f2efcd65",
   "metadata": {},
   "source": [
    "##### Step 3C You will see your server starting up. \n",
    "\n",
    "<img src=\"./media/Jupyter_lab_instance_starting_up.png\" />"
   ]
  },
  {
   "cell_type": "markdown",
   "id": "e848ff39",
   "metadata": {},
   "source": [
    "##### Step 3D Once your server is ready to launch, you will be automically redirected to Jupyter lab instance. \n",
    "\n",
    "<img src=\"./media/Jupyer_lab_instance.png\" />"
   ]
  }
 ],
 "metadata": {
  "kernelspec": {
   "display_name": "Python 3 (ipykernel)",
   "language": "python",
   "name": "python3"
  },
  "language_info": {
   "codemirror_mode": {
    "name": "ipython",
    "version": 3
   },
   "file_extension": ".py",
   "mimetype": "text/x-python",
   "name": "python",
   "nbconvert_exporter": "python",
   "pygments_lexer": "ipython3",
   "version": "3.10.10"
  }
 },
 "nbformat": 4,
 "nbformat_minor": 5
}
