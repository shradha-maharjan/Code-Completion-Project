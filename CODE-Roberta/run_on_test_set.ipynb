{
 "cells": [
  {
   "cell_type": "code",
   "execution_count": 1,
   "metadata": {},
   "outputs": [],
   "source": [
    "import argparse\n",
    "import torch\n",
    "\n",
    "from transformers import (\n",
    "    RobertaConfig,\n",
    "    RobertaForMaskedLM,\n",
    "    RobertaTokenizer\n",
    ")"
   ]
  },
  {
   "cell_type": "code",
   "execution_count": 2,
   "metadata": {},
   "outputs": [],
   "source": [
    "\n",
    "def main():\n",
    "    # Instantiate argument parser\n",
    "    model_path= '/home/user1-selab3/shradha_test/roberta/roberta/CODE/OUTPUTS'\n",
    "    test_set_inputs_path = '/home/user1-selab3/shradha_test/roberta/roberta/DATASET/DATASET/JAVA/TOKEN/RAW/test_masked_code-test'\n",
    "    predictions_path= '/home/user1-selab3/shradha_test/roberta/roberta/DATASET/DATASET/JAVA/TOKEN/RAW/predictions.txt'\n",
    "    \n",
    "    # Predictions\n",
    "    predictions_file = open(predictions_path, 'w')\n",
    "    predictions_file.write('PREDICTIONS' + '\\n')\n",
    "\n",
    "    config_class, model_class, tokenizer_class = RobertaConfig, RobertaForMaskedLM, RobertaTokenizer\n",
    "\n",
    "    # Prepare the tokenizer\n",
    "    tokenizer = tokenizer_class.from_pretrained(model_path)\n",
    "\n",
    "    # Prepare the model\n",
    "    model = model_class.from_pretrained(model_path)\n",
    "    device = torch.device(\"cuda\" if torch.cuda.is_available() else \"cpu\")\n",
    "    model.to(device)\n",
    "\n",
    "    # Test set inputs\n",
    "    with open(test_set_inputs_path) as f:\n",
    "        inputs = f.readlines()\n",
    "    inputs = [x.strip() for x in inputs]\n",
    "\n",
    "    i = 0\n",
    "    while i < len(inputs):\n",
    "        print(str(i+1) + '  out of ' + str(len(inputs)))\n",
    "        input = inputs[i]\n",
    "\n",
    "        indexed_tokens = tokenizer.encode(input)\n",
    "        tokens_tensor = torch.tensor([indexed_tokens])\n",
    "        tokens_tensor = tokens_tensor.to(device)\n",
    "        with torch.no_grad():\n",
    "            outputs = model(tokens_tensor)\n",
    "            predictions = outputs[0]\n",
    "\n",
    "        predicted_sentence = []\n",
    "        for token in torch.argmax(predictions[0], 1).cpu().numpy():\n",
    "            if token != tokenizer.convert_tokens_to_ids('<z>'):\n",
    "                predicted_sentence.append(token)\n",
    "            else:\n",
    "                break\n",
    "\n",
    "        prediction = tokenizer.decode(predicted_sentence)\n",
    "        print(prediction)\n",
    "        predictions_file.write(prediction + '\\n')\n",
    "        i += 1"
   ]
  },
  {
   "cell_type": "code",
   "execution_count": 3,
   "metadata": {},
   "outputs": [
    {
     "name": "stderr",
     "output_type": "stream",
     "text": [
      "Special tokens have been added in the vocabulary, make sure the associated word embeddings are fine-tuned or trained.\n"
     ]
    },
    {
     "name": "stdout",
     "output_type": "stream",
     "text": [
      "1  out of 1\n",
      "\n"
     ]
    }
   ],
   "source": [
    "\n",
    "if __name__ == \"__main__\":\n",
    "    main()"
   ]
  },
  {
   "cell_type": "code",
   "execution_count": null,
   "metadata": {},
   "outputs": [],
   "source": []
  },
  {
   "cell_type": "code",
   "execution_count": null,
   "metadata": {},
   "outputs": [],
   "source": []
  },
  {
   "cell_type": "code",
   "execution_count": null,
   "metadata": {},
   "outputs": [],
   "source": []
  },
  {
   "cell_type": "code",
   "execution_count": null,
   "metadata": {},
   "outputs": [],
   "source": []
  },
  {
   "cell_type": "code",
   "execution_count": null,
   "metadata": {},
   "outputs": [],
   "source": []
  },
  {
   "cell_type": "code",
   "execution_count": null,
   "metadata": {},
   "outputs": [],
   "source": []
  },
  {
   "cell_type": "code",
   "execution_count": null,
   "metadata": {},
   "outputs": [],
   "source": []
  },
  {
   "cell_type": "code",
   "execution_count": null,
   "metadata": {},
   "outputs": [],
   "source": []
  },
  {
   "cell_type": "code",
   "execution_count": null,
   "metadata": {},
   "outputs": [],
   "source": []
  },
  {
   "cell_type": "code",
   "execution_count": null,
   "metadata": {},
   "outputs": [],
   "source": []
  },
  {
   "cell_type": "code",
   "execution_count": null,
   "metadata": {},
   "outputs": [],
   "source": []
  },
  {
   "cell_type": "code",
   "execution_count": null,
   "metadata": {},
   "outputs": [],
   "source": []
  }
 ],
 "metadata": {
  "kernelspec": {
   "display_name": "myenv_python3_11",
   "language": "python",
   "name": "python3"
  },
  "language_info": {
   "codemirror_mode": {
    "name": "ipython",
    "version": 3
   },
   "file_extension": ".py",
   "mimetype": "text/x-python",
   "name": "python",
   "nbconvert_exporter": "python",
   "pygments_lexer": "ipython3",
   "version": "3.11.7"
  }
 },
 "nbformat": 4,
 "nbformat_minor": 2
}
